{
  "nbformat": 4,
  "nbformat_minor": 0,
  "metadata": {
    "colab": {
      "provenance": []
    },
    "kernelspec": {
      "name": "python3",
      "display_name": "Python 3"
    },
    "language_info": {
      "name": "python"
    }
  },
  "cells": [
    {
      "cell_type": "markdown",
      "source": [
        "# IoT Network Traffic Classification with Neural Networks\n",
        "\n",
        "## Introduction\n",
        "In this notebook, we will explore the process of classifying Internet of Things (IoT) network traffic using neural networks. IoT devices are becoming increasingly prevalent in various domains, ranging from smart homes to industrial automation. However, the proliferation of these devices also raises concerns about security, as they can be vulnerable to cyber attacks.\n",
        "\n",
        "One approach to enhance IoT security is by analyzing network traffic to detect and classify malicious behavior. In this project, we will develop a neural network model that can classify IoT network traffic into different categories, such as benign and malicious.\n",
        "\n",
        "## Dataset\n",
        "We will use the IoT-23 dataset, which contains labeled network traffic captures from both benign and malicious IoT devices. This dataset was created as part of the Avast AIC laboratory with the funding of Avast Software. It includes various features extracted from network traffic, such as source and destination IP addresses, port numbers, network protocols, and more."
      ],
      "metadata": {
        "id": "-mRF12TEuX1C"
      }
    },
    {
      "cell_type": "markdown",
      "source": [
        "## Dataset Preparation\n",
        "\n",
        "Before training our neural network model, we need to prepare our dataset. This involves splitting it into training, validation, and test sets, as well as separating features from labels.\n",
        "\n",
        "### Dataset Splitting\n",
        "\n",
        "We'll use the `train_val_test_split` function to split our dataset into training, validation, and test sets. This function allows us to control the randomness of the split and optionally perform a stratified split if we specify a stratification column."
      ],
      "metadata": {
        "id": "vMeQbrwiv0iJ"
      }
    },
    {
      "cell_type": "code",
      "source": [
        "from sklearn.model_selection import train_test_split\n",
        "\n",
        "# Define the train_val_test_split function\n",
        "def train_val_test_split(df, rstate=42, shuffle=True, stratify=None):\n",
        "    strat = df[stratify] if stratify else None\n",
        "    train_set, test_set = train_test_split(\n",
        "        df, test_size=0.4, random_state=rstate, shuffle=shuffle, stratify=strat)\n",
        "    strat = test_set[stratify] if stratify else None\n",
        "    val_set, test_set = train_test_split(\n",
        "        test_set, test_size=0.5, random_state=rstate, shuffle=shuffle, stratify=strat)\n",
        "    return (train_set, val_set, test_set)"
      ],
      "metadata": {
        "id": "a3OszAO2wDMA"
      },
      "execution_count": 1,
      "outputs": []
    },
    {
      "cell_type": "markdown",
      "source": [
        "## Feature and Label Separation\n",
        "\n",
        "We'll use the `remove_labels` function to separate features from labels in each dataset."
      ],
      "metadata": {
        "id": "6ApGWYvOwFHY"
      }
    },
    {
      "cell_type": "code",
      "source": [
        "# Define the remove_labels function\n",
        "def remove_labels(df, label_name):\n",
        "    X = df.drop(label_name, axis=1)\n",
        "    y = df[label_name].copy()\n",
        "    return (X, y)"
      ],
      "metadata": {
        "id": "GzkQJH0awJ1L"
      },
      "execution_count": 2,
      "outputs": []
    },
    {
      "cell_type": "markdown",
      "source": [
        "## Data Loading and Concatenation\n",
        "\n",
        "To prepare our dataset for training, we need to load data from multiple CSV files and combine them into a single DataFrame.\n",
        "\n",
        "### Loading Data from CSV Files\n",
        "\n",
        "The IoT-23 dataset consists of twenty-three captures (scenarios) of different IoT network traffic. These scenarios are divided into twenty network captures from infected IoT devices, each named after the malware sample executed on the scenario, and three network captures of real IoT devices' network traffic.\n",
        "\n",
        "We will use the `pandas` library to read data from CSV files located in a specified directory. Each CSV file represents a portion of our dataset.\n"
      ],
      "metadata": {
        "id": "3LGaOSTNzQzQ"
      }
    },
    {
      "cell_type": "code",
      "source": [
        "import pandas as pd\n",
        "import os\n",
        "\n",
        "# Directory where your CSV files are located\n",
        "directory = 'data'\n",
        "\n",
        "# List to store all the DataFrames from CSV files\n",
        "dfs = []\n",
        "\n",
        "# Iterate over each file in the directory\n",
        "for filename in os.listdir(directory):\n",
        "    if filename.endswith('.csv'):\n",
        "        # Read the CSV file and append it to the list of DataFrames\n",
        "        df = pd.read_csv(os.path.join(directory, filename), delimiter='|')\n",
        "        dfs.append(df)\n",
        "        # Print the filename and the number of records in the DataFrame\n",
        "        print(f\"Processed file: {filename}\")\n",
        "        print(f\"Number of records: {len(df)}\\n\")\n",
        "\n",
        "# Calculate the total number of records in all files\n",
        "total_records = sum(len(df) for df in dfs)\n",
        "\n",
        "# Print the total number of files processed and the total number of records\n",
        "print(f\"Number of files: {len(dfs)}\\n\")\n",
        "print(f\"Total number of records: {total_records}\\n\")"
      ],
      "metadata": {
        "id": "XH7DkNSGzbko",
        "colab": {
          "base_uri": "https://localhost:8080/"
        },
        "outputId": "b1c0e9c0-a847-44c6-c02c-92f9cd6d2b8f"
      },
      "execution_count": 3,
      "outputs": [
        {
          "output_type": "stream",
          "name": "stdout",
          "text": [
            "Processed file: CTU-IoT-Malware-Capture-60-1conn.log.labeled.csv\n",
            "Number of records: 32357\n",
            "\n",
            "Processed file: CTU-IoT-Malware-Capture-42-1conn.log.labeled.csv\n",
            "Number of records: 4426\n",
            "\n",
            "Processed file: CTU-IoT-Malware-Capture-1-1conn.log.labeled.csv\n",
            "Number of records: 275018\n",
            "\n",
            "Processed file: CTU-IoT-Malware-Capture-8-1conn.log.labeled.csv\n",
            "Number of records: 10403\n",
            "\n",
            "Processed file: CTU-IoT-Malware-Capture-44-1conn.log.labeled.csv\n",
            "Number of records: 237\n",
            "\n",
            "Processed file: CTU-IoT-Malware-Capture-35-1conn.log.labeled.csv\n",
            "Number of records: 103463\n",
            "\n",
            "Processed file: CTU-IoT-Malware-Capture-48-1conn.log.labeled.csv\n",
            "Number of records: 33720\n",
            "\n",
            "Processed file: CTU-IoT-Malware-Capture-20-1conn.log.labeled.csv\n",
            "Number of records: 3209\n",
            "\n",
            "Processed file: CTU-IoT-Malware-Capture-3-1conn.log.labeled.csv\n",
            "Number of records: 156103\n",
            "\n",
            "Processed file: CTU-IoT-Malware-Capture-9-1conn.log.labeled.csv\n",
            "Number of records: 180027\n",
            "\n",
            "Processed file: CTU-IoT-Malware-Capture-21-1conn.log.labeled.csv\n",
            "Number of records: 3286\n",
            "\n",
            "Processed file: CTU-IoT-Malware-Capture-34-1conn.log.labeled.csv\n",
            "Number of records: 23145\n",
            "\n",
            "Number of files: 12\n",
            "\n",
            "Total number of records: 825394\n",
            "\n"
          ]
        }
      ]
    },
    {
      "cell_type": "markdown",
      "source": [
        "## Combining DataFrames\n",
        "\n",
        "After loading data from all CSV files, we will combine them into a single DataFrame using the `pd.concat()` function."
      ],
      "metadata": {
        "id": "egAYSMxgzeYR"
      }
    },
    {
      "cell_type": "code",
      "source": [
        "# Combine all the DataFrames into one\n",
        "final_df = pd.concat(dfs, ignore_index=True)"
      ],
      "metadata": {
        "id": "XFFYV0xczn36"
      },
      "execution_count": 4,
      "outputs": []
    },
    {
      "cell_type": "markdown",
      "source": [
        "## Summary\n",
        "\n",
        "Finally, let's print some summary statistics about our combined dataset."
      ],
      "metadata": {
        "id": "KKKf5vq3zqch"
      }
    },
    {
      "cell_type": "code",
      "source": [
        "print(\"Number of features:\", len(final_df.columns))\n",
        "print(\"Length of the dataset:\", len(final_df))"
      ],
      "metadata": {
        "id": "AFmKYHPpzuAJ",
        "colab": {
          "base_uri": "https://localhost:8080/"
        },
        "outputId": "c72dc69d-02dc-4e59-fc6f-b928876bfe55"
      },
      "execution_count": 5,
      "outputs": [
        {
          "output_type": "stream",
          "name": "stdout",
          "text": [
            "Number of features: 23\n",
            "Length of the dataset: 825394\n"
          ]
        }
      ]
    },
    {
      "cell_type": "code",
      "source": [
        "final_df.head(200)"
      ],
      "metadata": {
        "colab": {
          "base_uri": "https://localhost:8080/",
          "height": 496
        },
        "id": "6ES75E6n5bO5",
        "outputId": "0de0ab2f-45cd-41d3-9607-4c7d8c3155f2"
      },
      "execution_count": 6,
      "outputs": [
        {
          "output_type": "execute_result",
          "data": {
            "text/plain": [
              "               ts                 uid      id.orig_h  id.orig_p  \\\n",
              "0    1.568940e+09  CEjjLs1iwWYrt8C4O6  192.168.1.195      123.0   \n",
              "1    1.568940e+09  CHNzmm3tMu5Gse9Zvg  192.168.1.195      123.0   \n",
              "2    1.568940e+09   CDlbowGNUwsHckADd  192.168.1.195    37120.0   \n",
              "3    1.568940e+09  CxKxhj4MGsf5GcqoX6    192.168.1.1    47805.0   \n",
              "4    1.568940e+09  C2n3PK3bA92hAgTHda  192.168.1.195    37122.0   \n",
              "..            ...                 ...            ...        ...   \n",
              "195  1.568956e+09   Cn4V6RtWlZIdKdGpk  192.168.1.195      123.0   \n",
              "196  1.568956e+09  CdA7KF34uLtWMdifE1  192.168.1.195      123.0   \n",
              "197  1.568956e+09  COSuFe3xcOcWLhs3Ch  192.168.1.195      123.0   \n",
              "198  1.568956e+09   CJxYkmmazUFacc5Af  192.168.1.195      123.0   \n",
              "199  1.568957e+09   CltnTXWE41KQWtf0c  192.168.1.195      123.0   \n",
              "\n",
              "          id.resp_h  id.resp_p proto service    duration orig_bytes  ...  \\\n",
              "0    212.111.30.190      123.0   udp       -    0.008239         96  ...   \n",
              "1    89.221.218.101      123.0   udp       -    0.007496         96  ...   \n",
              "2     102.165.48.81    17769.0   tcp       -    1.848549        518  ...   \n",
              "3     192.168.1.195       22.0   tcp       -  206.663644       2768  ...   \n",
              "4     102.165.48.81    17769.0   tcp       -    1.902519        518  ...   \n",
              "..              ...        ...   ...     ...         ...        ...  ...   \n",
              "195     81.2.254.32      123.0   udp       -    0.005499         96  ...   \n",
              "196  212.111.30.190      123.0   udp       -    0.008248         96  ...   \n",
              "197  89.221.218.101      123.0   udp       -    0.007498         96  ...   \n",
              "198  89.221.210.188      123.0   udp       -    0.004497         96  ...   \n",
              "199      5.1.56.123      123.0   udp       -    0.005247         96  ...   \n",
              "\n",
              "    local_resp missed_bytes  history orig_pkts  orig_ip_bytes resp_pkts  \\\n",
              "0            -          0.0       Dd       2.0          152.0       2.0   \n",
              "1            -          0.0       Dd       2.0          152.0       2.0   \n",
              "2            -          0.0  ShAdfDr      10.0         1572.0       8.0   \n",
              "3            -          0.0   DdAaFf     400.0        26336.0     268.0   \n",
              "4            -          0.0  ShAdfDr      10.0         1572.0       8.0   \n",
              "..         ...          ...      ...       ...            ...       ...   \n",
              "195          -          0.0       Dd       2.0          152.0       2.0   \n",
              "196          -          0.0       Dd       2.0          152.0       2.0   \n",
              "197          -          0.0       Dd       2.0          152.0       2.0   \n",
              "198          -          0.0       Dd       2.0          152.0       2.0   \n",
              "199          -          0.0       Dd       2.0          152.0       2.0   \n",
              "\n",
              "     resp_ip_bytes  tunnel_parents            label  detailed-label  \n",
              "0            152.0               -           Benign               -  \n",
              "1            152.0               -           Benign               -  \n",
              "2            540.0               -  Malicious   C&C       HeartBeat  \n",
              "3          36368.0               -           Benign               -  \n",
              "4            540.0               -  Malicious   C&C       HeartBeat  \n",
              "..             ...             ...              ...             ...  \n",
              "195          152.0               -           Benign               -  \n",
              "196          152.0               -           Benign               -  \n",
              "197          152.0               -           Benign               -  \n",
              "198          152.0               -           Benign               -  \n",
              "199          152.0               -           Benign               -  \n",
              "\n",
              "[200 rows x 23 columns]"
            ],
            "text/html": [
              "\n",
              "  <div id=\"df-18ec5d19-4804-4468-b497-ff1459e5fc16\" class=\"colab-df-container\">\n",
              "    <div>\n",
              "<style scoped>\n",
              "    .dataframe tbody tr th:only-of-type {\n",
              "        vertical-align: middle;\n",
              "    }\n",
              "\n",
              "    .dataframe tbody tr th {\n",
              "        vertical-align: top;\n",
              "    }\n",
              "\n",
              "    .dataframe thead th {\n",
              "        text-align: right;\n",
              "    }\n",
              "</style>\n",
              "<table border=\"1\" class=\"dataframe\">\n",
              "  <thead>\n",
              "    <tr style=\"text-align: right;\">\n",
              "      <th></th>\n",
              "      <th>ts</th>\n",
              "      <th>uid</th>\n",
              "      <th>id.orig_h</th>\n",
              "      <th>id.orig_p</th>\n",
              "      <th>id.resp_h</th>\n",
              "      <th>id.resp_p</th>\n",
              "      <th>proto</th>\n",
              "      <th>service</th>\n",
              "      <th>duration</th>\n",
              "      <th>orig_bytes</th>\n",
              "      <th>...</th>\n",
              "      <th>local_resp</th>\n",
              "      <th>missed_bytes</th>\n",
              "      <th>history</th>\n",
              "      <th>orig_pkts</th>\n",
              "      <th>orig_ip_bytes</th>\n",
              "      <th>resp_pkts</th>\n",
              "      <th>resp_ip_bytes</th>\n",
              "      <th>tunnel_parents</th>\n",
              "      <th>label</th>\n",
              "      <th>detailed-label</th>\n",
              "    </tr>\n",
              "  </thead>\n",
              "  <tbody>\n",
              "    <tr>\n",
              "      <th>0</th>\n",
              "      <td>1.568940e+09</td>\n",
              "      <td>CEjjLs1iwWYrt8C4O6</td>\n",
              "      <td>192.168.1.195</td>\n",
              "      <td>123.0</td>\n",
              "      <td>212.111.30.190</td>\n",
              "      <td>123.0</td>\n",
              "      <td>udp</td>\n",
              "      <td>-</td>\n",
              "      <td>0.008239</td>\n",
              "      <td>96</td>\n",
              "      <td>...</td>\n",
              "      <td>-</td>\n",
              "      <td>0.0</td>\n",
              "      <td>Dd</td>\n",
              "      <td>2.0</td>\n",
              "      <td>152.0</td>\n",
              "      <td>2.0</td>\n",
              "      <td>152.0</td>\n",
              "      <td>-</td>\n",
              "      <td>Benign</td>\n",
              "      <td>-</td>\n",
              "    </tr>\n",
              "    <tr>\n",
              "      <th>1</th>\n",
              "      <td>1.568940e+09</td>\n",
              "      <td>CHNzmm3tMu5Gse9Zvg</td>\n",
              "      <td>192.168.1.195</td>\n",
              "      <td>123.0</td>\n",
              "      <td>89.221.218.101</td>\n",
              "      <td>123.0</td>\n",
              "      <td>udp</td>\n",
              "      <td>-</td>\n",
              "      <td>0.007496</td>\n",
              "      <td>96</td>\n",
              "      <td>...</td>\n",
              "      <td>-</td>\n",
              "      <td>0.0</td>\n",
              "      <td>Dd</td>\n",
              "      <td>2.0</td>\n",
              "      <td>152.0</td>\n",
              "      <td>2.0</td>\n",
              "      <td>152.0</td>\n",
              "      <td>-</td>\n",
              "      <td>Benign</td>\n",
              "      <td>-</td>\n",
              "    </tr>\n",
              "    <tr>\n",
              "      <th>2</th>\n",
              "      <td>1.568940e+09</td>\n",
              "      <td>CDlbowGNUwsHckADd</td>\n",
              "      <td>192.168.1.195</td>\n",
              "      <td>37120.0</td>\n",
              "      <td>102.165.48.81</td>\n",
              "      <td>17769.0</td>\n",
              "      <td>tcp</td>\n",
              "      <td>-</td>\n",
              "      <td>1.848549</td>\n",
              "      <td>518</td>\n",
              "      <td>...</td>\n",
              "      <td>-</td>\n",
              "      <td>0.0</td>\n",
              "      <td>ShAdfDr</td>\n",
              "      <td>10.0</td>\n",
              "      <td>1572.0</td>\n",
              "      <td>8.0</td>\n",
              "      <td>540.0</td>\n",
              "      <td>-</td>\n",
              "      <td>Malicious   C&amp;C</td>\n",
              "      <td>HeartBeat</td>\n",
              "    </tr>\n",
              "    <tr>\n",
              "      <th>3</th>\n",
              "      <td>1.568940e+09</td>\n",
              "      <td>CxKxhj4MGsf5GcqoX6</td>\n",
              "      <td>192.168.1.1</td>\n",
              "      <td>47805.0</td>\n",
              "      <td>192.168.1.195</td>\n",
              "      <td>22.0</td>\n",
              "      <td>tcp</td>\n",
              "      <td>-</td>\n",
              "      <td>206.663644</td>\n",
              "      <td>2768</td>\n",
              "      <td>...</td>\n",
              "      <td>-</td>\n",
              "      <td>0.0</td>\n",
              "      <td>DdAaFf</td>\n",
              "      <td>400.0</td>\n",
              "      <td>26336.0</td>\n",
              "      <td>268.0</td>\n",
              "      <td>36368.0</td>\n",
              "      <td>-</td>\n",
              "      <td>Benign</td>\n",
              "      <td>-</td>\n",
              "    </tr>\n",
              "    <tr>\n",
              "      <th>4</th>\n",
              "      <td>1.568940e+09</td>\n",
              "      <td>C2n3PK3bA92hAgTHda</td>\n",
              "      <td>192.168.1.195</td>\n",
              "      <td>37122.0</td>\n",
              "      <td>102.165.48.81</td>\n",
              "      <td>17769.0</td>\n",
              "      <td>tcp</td>\n",
              "      <td>-</td>\n",
              "      <td>1.902519</td>\n",
              "      <td>518</td>\n",
              "      <td>...</td>\n",
              "      <td>-</td>\n",
              "      <td>0.0</td>\n",
              "      <td>ShAdfDr</td>\n",
              "      <td>10.0</td>\n",
              "      <td>1572.0</td>\n",
              "      <td>8.0</td>\n",
              "      <td>540.0</td>\n",
              "      <td>-</td>\n",
              "      <td>Malicious   C&amp;C</td>\n",
              "      <td>HeartBeat</td>\n",
              "    </tr>\n",
              "    <tr>\n",
              "      <th>...</th>\n",
              "      <td>...</td>\n",
              "      <td>...</td>\n",
              "      <td>...</td>\n",
              "      <td>...</td>\n",
              "      <td>...</td>\n",
              "      <td>...</td>\n",
              "      <td>...</td>\n",
              "      <td>...</td>\n",
              "      <td>...</td>\n",
              "      <td>...</td>\n",
              "      <td>...</td>\n",
              "      <td>...</td>\n",
              "      <td>...</td>\n",
              "      <td>...</td>\n",
              "      <td>...</td>\n",
              "      <td>...</td>\n",
              "      <td>...</td>\n",
              "      <td>...</td>\n",
              "      <td>...</td>\n",
              "      <td>...</td>\n",
              "      <td>...</td>\n",
              "    </tr>\n",
              "    <tr>\n",
              "      <th>195</th>\n",
              "      <td>1.568956e+09</td>\n",
              "      <td>Cn4V6RtWlZIdKdGpk</td>\n",
              "      <td>192.168.1.195</td>\n",
              "      <td>123.0</td>\n",
              "      <td>81.2.254.32</td>\n",
              "      <td>123.0</td>\n",
              "      <td>udp</td>\n",
              "      <td>-</td>\n",
              "      <td>0.005499</td>\n",
              "      <td>96</td>\n",
              "      <td>...</td>\n",
              "      <td>-</td>\n",
              "      <td>0.0</td>\n",
              "      <td>Dd</td>\n",
              "      <td>2.0</td>\n",
              "      <td>152.0</td>\n",
              "      <td>2.0</td>\n",
              "      <td>152.0</td>\n",
              "      <td>-</td>\n",
              "      <td>Benign</td>\n",
              "      <td>-</td>\n",
              "    </tr>\n",
              "    <tr>\n",
              "      <th>196</th>\n",
              "      <td>1.568956e+09</td>\n",
              "      <td>CdA7KF34uLtWMdifE1</td>\n",
              "      <td>192.168.1.195</td>\n",
              "      <td>123.0</td>\n",
              "      <td>212.111.30.190</td>\n",
              "      <td>123.0</td>\n",
              "      <td>udp</td>\n",
              "      <td>-</td>\n",
              "      <td>0.008248</td>\n",
              "      <td>96</td>\n",
              "      <td>...</td>\n",
              "      <td>-</td>\n",
              "      <td>0.0</td>\n",
              "      <td>Dd</td>\n",
              "      <td>2.0</td>\n",
              "      <td>152.0</td>\n",
              "      <td>2.0</td>\n",
              "      <td>152.0</td>\n",
              "      <td>-</td>\n",
              "      <td>Benign</td>\n",
              "      <td>-</td>\n",
              "    </tr>\n",
              "    <tr>\n",
              "      <th>197</th>\n",
              "      <td>1.568956e+09</td>\n",
              "      <td>COSuFe3xcOcWLhs3Ch</td>\n",
              "      <td>192.168.1.195</td>\n",
              "      <td>123.0</td>\n",
              "      <td>89.221.218.101</td>\n",
              "      <td>123.0</td>\n",
              "      <td>udp</td>\n",
              "      <td>-</td>\n",
              "      <td>0.007498</td>\n",
              "      <td>96</td>\n",
              "      <td>...</td>\n",
              "      <td>-</td>\n",
              "      <td>0.0</td>\n",
              "      <td>Dd</td>\n",
              "      <td>2.0</td>\n",
              "      <td>152.0</td>\n",
              "      <td>2.0</td>\n",
              "      <td>152.0</td>\n",
              "      <td>-</td>\n",
              "      <td>Benign</td>\n",
              "      <td>-</td>\n",
              "    </tr>\n",
              "    <tr>\n",
              "      <th>198</th>\n",
              "      <td>1.568956e+09</td>\n",
              "      <td>CJxYkmmazUFacc5Af</td>\n",
              "      <td>192.168.1.195</td>\n",
              "      <td>123.0</td>\n",
              "      <td>89.221.210.188</td>\n",
              "      <td>123.0</td>\n",
              "      <td>udp</td>\n",
              "      <td>-</td>\n",
              "      <td>0.004497</td>\n",
              "      <td>96</td>\n",
              "      <td>...</td>\n",
              "      <td>-</td>\n",
              "      <td>0.0</td>\n",
              "      <td>Dd</td>\n",
              "      <td>2.0</td>\n",
              "      <td>152.0</td>\n",
              "      <td>2.0</td>\n",
              "      <td>152.0</td>\n",
              "      <td>-</td>\n",
              "      <td>Benign</td>\n",
              "      <td>-</td>\n",
              "    </tr>\n",
              "    <tr>\n",
              "      <th>199</th>\n",
              "      <td>1.568957e+09</td>\n",
              "      <td>CltnTXWE41KQWtf0c</td>\n",
              "      <td>192.168.1.195</td>\n",
              "      <td>123.0</td>\n",
              "      <td>5.1.56.123</td>\n",
              "      <td>123.0</td>\n",
              "      <td>udp</td>\n",
              "      <td>-</td>\n",
              "      <td>0.005247</td>\n",
              "      <td>96</td>\n",
              "      <td>...</td>\n",
              "      <td>-</td>\n",
              "      <td>0.0</td>\n",
              "      <td>Dd</td>\n",
              "      <td>2.0</td>\n",
              "      <td>152.0</td>\n",
              "      <td>2.0</td>\n",
              "      <td>152.0</td>\n",
              "      <td>-</td>\n",
              "      <td>Benign</td>\n",
              "      <td>-</td>\n",
              "    </tr>\n",
              "  </tbody>\n",
              "</table>\n",
              "<p>200 rows × 23 columns</p>\n",
              "</div>\n",
              "    <div class=\"colab-df-buttons\">\n",
              "\n",
              "  <div class=\"colab-df-container\">\n",
              "    <button class=\"colab-df-convert\" onclick=\"convertToInteractive('df-18ec5d19-4804-4468-b497-ff1459e5fc16')\"\n",
              "            title=\"Convert this dataframe to an interactive table.\"\n",
              "            style=\"display:none;\">\n",
              "\n",
              "  <svg xmlns=\"http://www.w3.org/2000/svg\" height=\"24px\" viewBox=\"0 -960 960 960\">\n",
              "    <path d=\"M120-120v-720h720v720H120Zm60-500h600v-160H180v160Zm220 220h160v-160H400v160Zm0 220h160v-160H400v160ZM180-400h160v-160H180v160Zm440 0h160v-160H620v160ZM180-180h160v-160H180v160Zm440 0h160v-160H620v160Z\"/>\n",
              "  </svg>\n",
              "    </button>\n",
              "\n",
              "  <style>\n",
              "    .colab-df-container {\n",
              "      display:flex;\n",
              "      gap: 12px;\n",
              "    }\n",
              "\n",
              "    .colab-df-convert {\n",
              "      background-color: #E8F0FE;\n",
              "      border: none;\n",
              "      border-radius: 50%;\n",
              "      cursor: pointer;\n",
              "      display: none;\n",
              "      fill: #1967D2;\n",
              "      height: 32px;\n",
              "      padding: 0 0 0 0;\n",
              "      width: 32px;\n",
              "    }\n",
              "\n",
              "    .colab-df-convert:hover {\n",
              "      background-color: #E2EBFA;\n",
              "      box-shadow: 0px 1px 2px rgba(60, 64, 67, 0.3), 0px 1px 3px 1px rgba(60, 64, 67, 0.15);\n",
              "      fill: #174EA6;\n",
              "    }\n",
              "\n",
              "    .colab-df-buttons div {\n",
              "      margin-bottom: 4px;\n",
              "    }\n",
              "\n",
              "    [theme=dark] .colab-df-convert {\n",
              "      background-color: #3B4455;\n",
              "      fill: #D2E3FC;\n",
              "    }\n",
              "\n",
              "    [theme=dark] .colab-df-convert:hover {\n",
              "      background-color: #434B5C;\n",
              "      box-shadow: 0px 1px 3px 1px rgba(0, 0, 0, 0.15);\n",
              "      filter: drop-shadow(0px 1px 2px rgba(0, 0, 0, 0.3));\n",
              "      fill: #FFFFFF;\n",
              "    }\n",
              "  </style>\n",
              "\n",
              "    <script>\n",
              "      const buttonEl =\n",
              "        document.querySelector('#df-18ec5d19-4804-4468-b497-ff1459e5fc16 button.colab-df-convert');\n",
              "      buttonEl.style.display =\n",
              "        google.colab.kernel.accessAllowed ? 'block' : 'none';\n",
              "\n",
              "      async function convertToInteractive(key) {\n",
              "        const element = document.querySelector('#df-18ec5d19-4804-4468-b497-ff1459e5fc16');\n",
              "        const dataTable =\n",
              "          await google.colab.kernel.invokeFunction('convertToInteractive',\n",
              "                                                    [key], {});\n",
              "        if (!dataTable) return;\n",
              "\n",
              "        const docLinkHtml = 'Like what you see? Visit the ' +\n",
              "          '<a target=\"_blank\" href=https://colab.research.google.com/notebooks/data_table.ipynb>data table notebook</a>'\n",
              "          + ' to learn more about interactive tables.';\n",
              "        element.innerHTML = '';\n",
              "        dataTable['output_type'] = 'display_data';\n",
              "        await google.colab.output.renderOutput(dataTable, element);\n",
              "        const docLink = document.createElement('div');\n",
              "        docLink.innerHTML = docLinkHtml;\n",
              "        element.appendChild(docLink);\n",
              "      }\n",
              "    </script>\n",
              "  </div>\n",
              "\n",
              "\n",
              "<div id=\"df-dd6eedf0-d7ed-41b4-bab1-074b3c2361a7\">\n",
              "  <button class=\"colab-df-quickchart\" onclick=\"quickchart('df-dd6eedf0-d7ed-41b4-bab1-074b3c2361a7')\"\n",
              "            title=\"Suggest charts\"\n",
              "            style=\"display:none;\">\n",
              "\n",
              "<svg xmlns=\"http://www.w3.org/2000/svg\" height=\"24px\"viewBox=\"0 0 24 24\"\n",
              "     width=\"24px\">\n",
              "    <g>\n",
              "        <path d=\"M19 3H5c-1.1 0-2 .9-2 2v14c0 1.1.9 2 2 2h14c1.1 0 2-.9 2-2V5c0-1.1-.9-2-2-2zM9 17H7v-7h2v7zm4 0h-2V7h2v10zm4 0h-2v-4h2v4z\"/>\n",
              "    </g>\n",
              "</svg>\n",
              "  </button>\n",
              "\n",
              "<style>\n",
              "  .colab-df-quickchart {\n",
              "      --bg-color: #E8F0FE;\n",
              "      --fill-color: #1967D2;\n",
              "      --hover-bg-color: #E2EBFA;\n",
              "      --hover-fill-color: #174EA6;\n",
              "      --disabled-fill-color: #AAA;\n",
              "      --disabled-bg-color: #DDD;\n",
              "  }\n",
              "\n",
              "  [theme=dark] .colab-df-quickchart {\n",
              "      --bg-color: #3B4455;\n",
              "      --fill-color: #D2E3FC;\n",
              "      --hover-bg-color: #434B5C;\n",
              "      --hover-fill-color: #FFFFFF;\n",
              "      --disabled-bg-color: #3B4455;\n",
              "      --disabled-fill-color: #666;\n",
              "  }\n",
              "\n",
              "  .colab-df-quickchart {\n",
              "    background-color: var(--bg-color);\n",
              "    border: none;\n",
              "    border-radius: 50%;\n",
              "    cursor: pointer;\n",
              "    display: none;\n",
              "    fill: var(--fill-color);\n",
              "    height: 32px;\n",
              "    padding: 0;\n",
              "    width: 32px;\n",
              "  }\n",
              "\n",
              "  .colab-df-quickchart:hover {\n",
              "    background-color: var(--hover-bg-color);\n",
              "    box-shadow: 0 1px 2px rgba(60, 64, 67, 0.3), 0 1px 3px 1px rgba(60, 64, 67, 0.15);\n",
              "    fill: var(--button-hover-fill-color);\n",
              "  }\n",
              "\n",
              "  .colab-df-quickchart-complete:disabled,\n",
              "  .colab-df-quickchart-complete:disabled:hover {\n",
              "    background-color: var(--disabled-bg-color);\n",
              "    fill: var(--disabled-fill-color);\n",
              "    box-shadow: none;\n",
              "  }\n",
              "\n",
              "  .colab-df-spinner {\n",
              "    border: 2px solid var(--fill-color);\n",
              "    border-color: transparent;\n",
              "    border-bottom-color: var(--fill-color);\n",
              "    animation:\n",
              "      spin 1s steps(1) infinite;\n",
              "  }\n",
              "\n",
              "  @keyframes spin {\n",
              "    0% {\n",
              "      border-color: transparent;\n",
              "      border-bottom-color: var(--fill-color);\n",
              "      border-left-color: var(--fill-color);\n",
              "    }\n",
              "    20% {\n",
              "      border-color: transparent;\n",
              "      border-left-color: var(--fill-color);\n",
              "      border-top-color: var(--fill-color);\n",
              "    }\n",
              "    30% {\n",
              "      border-color: transparent;\n",
              "      border-left-color: var(--fill-color);\n",
              "      border-top-color: var(--fill-color);\n",
              "      border-right-color: var(--fill-color);\n",
              "    }\n",
              "    40% {\n",
              "      border-color: transparent;\n",
              "      border-right-color: var(--fill-color);\n",
              "      border-top-color: var(--fill-color);\n",
              "    }\n",
              "    60% {\n",
              "      border-color: transparent;\n",
              "      border-right-color: var(--fill-color);\n",
              "    }\n",
              "    80% {\n",
              "      border-color: transparent;\n",
              "      border-right-color: var(--fill-color);\n",
              "      border-bottom-color: var(--fill-color);\n",
              "    }\n",
              "    90% {\n",
              "      border-color: transparent;\n",
              "      border-bottom-color: var(--fill-color);\n",
              "    }\n",
              "  }\n",
              "</style>\n",
              "\n",
              "  <script>\n",
              "    async function quickchart(key) {\n",
              "      const quickchartButtonEl =\n",
              "        document.querySelector('#' + key + ' button');\n",
              "      quickchartButtonEl.disabled = true;  // To prevent multiple clicks.\n",
              "      quickchartButtonEl.classList.add('colab-df-spinner');\n",
              "      try {\n",
              "        const charts = await google.colab.kernel.invokeFunction(\n",
              "            'suggestCharts', [key], {});\n",
              "      } catch (error) {\n",
              "        console.error('Error during call to suggestCharts:', error);\n",
              "      }\n",
              "      quickchartButtonEl.classList.remove('colab-df-spinner');\n",
              "      quickchartButtonEl.classList.add('colab-df-quickchart-complete');\n",
              "    }\n",
              "    (() => {\n",
              "      let quickchartButtonEl =\n",
              "        document.querySelector('#df-dd6eedf0-d7ed-41b4-bab1-074b3c2361a7 button');\n",
              "      quickchartButtonEl.style.display =\n",
              "        google.colab.kernel.accessAllowed ? 'block' : 'none';\n",
              "    })();\n",
              "  </script>\n",
              "</div>\n",
              "    </div>\n",
              "  </div>\n"
            ],
            "application/vnd.google.colaboratory.intrinsic+json": {
              "type": "dataframe",
              "variable_name": "final_df"
            }
          },
          "metadata": {},
          "execution_count": 6
        }
      ]
    },
    {
      "cell_type": "markdown",
      "source": [
        "## Understanding the Dataset\n",
        "\n",
        "Before proceeding further, let's take a closer look at the combined dataset `final_df` using the `info()` method. This method provides a concise summary of the DataFrame, including information about the columns, their data types, and any missing values. Understanding the structure of the dataset is essential for preprocessing and analysis tasks.\n",
        "\n",
        "This command will display information such as the total number of entries, the data type of each column, and the number of non-null values. It will help us gain insights into the dataset's overall composition and identify any potential issues that need to be addressed during data preprocessing."
      ],
      "metadata": {
        "id": "nz4J4pOV8pCK"
      }
    },
    {
      "cell_type": "code",
      "source": [
        "final_df.info()"
      ],
      "metadata": {
        "colab": {
          "base_uri": "https://localhost:8080/"
        },
        "id": "U6_2RfKZ8ubQ",
        "outputId": "022ac9b5-1690-4bee-d045-7bad73c79ba4"
      },
      "execution_count": 7,
      "outputs": [
        {
          "output_type": "stream",
          "name": "stdout",
          "text": [
            "<class 'pandas.core.frame.DataFrame'>\n",
            "RangeIndex: 825394 entries, 0 to 825393\n",
            "Data columns (total 23 columns):\n",
            " #   Column          Non-Null Count   Dtype  \n",
            "---  ------          --------------   -----  \n",
            " 0   ts              825394 non-null  float64\n",
            " 1   uid             825394 non-null  object \n",
            " 2   id.orig_h       825394 non-null  object \n",
            " 3   id.orig_p       825394 non-null  float64\n",
            " 4   id.resp_h       825393 non-null  object \n",
            " 5   id.resp_p       825392 non-null  float64\n",
            " 6   proto           825392 non-null  object \n",
            " 7   service         825391 non-null  object \n",
            " 8   duration        825391 non-null  object \n",
            " 9   orig_bytes      825391 non-null  object \n",
            " 10  resp_bytes      825391 non-null  object \n",
            " 11  conn_state      825390 non-null  object \n",
            " 12  local_orig      825390 non-null  object \n",
            " 13  local_resp      825389 non-null  object \n",
            " 14  missed_bytes    825389 non-null  float64\n",
            " 15  history         825389 non-null  object \n",
            " 16  orig_pkts       825389 non-null  float64\n",
            " 17  orig_ip_bytes   825389 non-null  float64\n",
            " 18  resp_pkts       825389 non-null  float64\n",
            " 19  resp_ip_bytes   825389 non-null  float64\n",
            " 20  tunnel_parents  825389 non-null  object \n",
            " 21  label           825389 non-null  object \n",
            " 22  detailed-label  738594 non-null  object \n",
            "dtypes: float64(8), object(15)\n",
            "memory usage: 144.8+ MB\n"
          ]
        }
      ]
    },
    {
      "cell_type": "markdown",
      "source": [
        "## Descriptive Statistics\n",
        "\n",
        "Understanding the distribution and summary statistics of the dataset's numerical features can provide valuable insights into its characteristics. We can use the `describe()` method to generate summary statistics for numerical columns."
      ],
      "metadata": {
        "id": "6WRPMzNL9AmA"
      }
    },
    {
      "cell_type": "code",
      "source": [
        "final_df.describe()"
      ],
      "metadata": {
        "id": "jSsVd6jP9I1L",
        "colab": {
          "base_uri": "https://localhost:8080/",
          "height": 300
        },
        "outputId": "6516d9ae-74d1-41a8-b5e2-4cc53b63bf64"
      },
      "execution_count": 8,
      "outputs": [
        {
          "output_type": "execute_result",
          "data": {
            "text/plain": [
              "                 ts      id.orig_p      id.resp_p   missed_bytes  \\\n",
              "count  8.253940e+05  825394.000000  825392.000000  825389.000000   \n",
              "mean   1.533564e+09   41973.450439    9370.371872       0.221911   \n",
              "std    1.064245e+07   14854.275109   19199.618576      45.584556   \n",
              "min    1.525880e+09       0.000000       0.000000       0.000000   \n",
              "25%    1.525958e+09   36648.000000      23.000000       0.000000   \n",
              "50%    1.526869e+09   43763.000000      23.000000       0.000000   \n",
              "75%    1.533109e+09   52127.000000    8080.000000       0.000000   \n",
              "max    1.569018e+09   65535.000000   65535.000000   20272.000000   \n",
              "\n",
              "          orig_pkts  orig_ip_bytes      resp_pkts  resp_ip_bytes  \n",
              "count  8.253890e+05   8.253890e+05  825389.000000  825389.000000  \n",
              "mean   3.104560e+02   1.351243e+04       0.290124      38.585079  \n",
              "std    9.565734e+04   3.769722e+06      19.589784    1416.814555  \n",
              "min    0.000000e+00   0.000000e+00       0.000000       0.000000  \n",
              "25%    1.000000e+00   4.000000e+01       0.000000       0.000000  \n",
              "50%    1.000000e+00   6.000000e+01       0.000000       0.000000  \n",
              "75%    3.000000e+00   1.800000e+02       0.000000       0.000000  \n",
              "max    6.602735e+07   1.914793e+09    9307.000000  388975.000000  "
            ],
            "text/html": [
              "\n",
              "  <div id=\"df-a3bcf847-bcbf-48c8-8929-2ff86396c3cf\" class=\"colab-df-container\">\n",
              "    <div>\n",
              "<style scoped>\n",
              "    .dataframe tbody tr th:only-of-type {\n",
              "        vertical-align: middle;\n",
              "    }\n",
              "\n",
              "    .dataframe tbody tr th {\n",
              "        vertical-align: top;\n",
              "    }\n",
              "\n",
              "    .dataframe thead th {\n",
              "        text-align: right;\n",
              "    }\n",
              "</style>\n",
              "<table border=\"1\" class=\"dataframe\">\n",
              "  <thead>\n",
              "    <tr style=\"text-align: right;\">\n",
              "      <th></th>\n",
              "      <th>ts</th>\n",
              "      <th>id.orig_p</th>\n",
              "      <th>id.resp_p</th>\n",
              "      <th>missed_bytes</th>\n",
              "      <th>orig_pkts</th>\n",
              "      <th>orig_ip_bytes</th>\n",
              "      <th>resp_pkts</th>\n",
              "      <th>resp_ip_bytes</th>\n",
              "    </tr>\n",
              "  </thead>\n",
              "  <tbody>\n",
              "    <tr>\n",
              "      <th>count</th>\n",
              "      <td>8.253940e+05</td>\n",
              "      <td>825394.000000</td>\n",
              "      <td>825392.000000</td>\n",
              "      <td>825389.000000</td>\n",
              "      <td>8.253890e+05</td>\n",
              "      <td>8.253890e+05</td>\n",
              "      <td>825389.000000</td>\n",
              "      <td>825389.000000</td>\n",
              "    </tr>\n",
              "    <tr>\n",
              "      <th>mean</th>\n",
              "      <td>1.533564e+09</td>\n",
              "      <td>41973.450439</td>\n",
              "      <td>9370.371872</td>\n",
              "      <td>0.221911</td>\n",
              "      <td>3.104560e+02</td>\n",
              "      <td>1.351243e+04</td>\n",
              "      <td>0.290124</td>\n",
              "      <td>38.585079</td>\n",
              "    </tr>\n",
              "    <tr>\n",
              "      <th>std</th>\n",
              "      <td>1.064245e+07</td>\n",
              "      <td>14854.275109</td>\n",
              "      <td>19199.618576</td>\n",
              "      <td>45.584556</td>\n",
              "      <td>9.565734e+04</td>\n",
              "      <td>3.769722e+06</td>\n",
              "      <td>19.589784</td>\n",
              "      <td>1416.814555</td>\n",
              "    </tr>\n",
              "    <tr>\n",
              "      <th>min</th>\n",
              "      <td>1.525880e+09</td>\n",
              "      <td>0.000000</td>\n",
              "      <td>0.000000</td>\n",
              "      <td>0.000000</td>\n",
              "      <td>0.000000e+00</td>\n",
              "      <td>0.000000e+00</td>\n",
              "      <td>0.000000</td>\n",
              "      <td>0.000000</td>\n",
              "    </tr>\n",
              "    <tr>\n",
              "      <th>25%</th>\n",
              "      <td>1.525958e+09</td>\n",
              "      <td>36648.000000</td>\n",
              "      <td>23.000000</td>\n",
              "      <td>0.000000</td>\n",
              "      <td>1.000000e+00</td>\n",
              "      <td>4.000000e+01</td>\n",
              "      <td>0.000000</td>\n",
              "      <td>0.000000</td>\n",
              "    </tr>\n",
              "    <tr>\n",
              "      <th>50%</th>\n",
              "      <td>1.526869e+09</td>\n",
              "      <td>43763.000000</td>\n",
              "      <td>23.000000</td>\n",
              "      <td>0.000000</td>\n",
              "      <td>1.000000e+00</td>\n",
              "      <td>6.000000e+01</td>\n",
              "      <td>0.000000</td>\n",
              "      <td>0.000000</td>\n",
              "    </tr>\n",
              "    <tr>\n",
              "      <th>75%</th>\n",
              "      <td>1.533109e+09</td>\n",
              "      <td>52127.000000</td>\n",
              "      <td>8080.000000</td>\n",
              "      <td>0.000000</td>\n",
              "      <td>3.000000e+00</td>\n",
              "      <td>1.800000e+02</td>\n",
              "      <td>0.000000</td>\n",
              "      <td>0.000000</td>\n",
              "    </tr>\n",
              "    <tr>\n",
              "      <th>max</th>\n",
              "      <td>1.569018e+09</td>\n",
              "      <td>65535.000000</td>\n",
              "      <td>65535.000000</td>\n",
              "      <td>20272.000000</td>\n",
              "      <td>6.602735e+07</td>\n",
              "      <td>1.914793e+09</td>\n",
              "      <td>9307.000000</td>\n",
              "      <td>388975.000000</td>\n",
              "    </tr>\n",
              "  </tbody>\n",
              "</table>\n",
              "</div>\n",
              "    <div class=\"colab-df-buttons\">\n",
              "\n",
              "  <div class=\"colab-df-container\">\n",
              "    <button class=\"colab-df-convert\" onclick=\"convertToInteractive('df-a3bcf847-bcbf-48c8-8929-2ff86396c3cf')\"\n",
              "            title=\"Convert this dataframe to an interactive table.\"\n",
              "            style=\"display:none;\">\n",
              "\n",
              "  <svg xmlns=\"http://www.w3.org/2000/svg\" height=\"24px\" viewBox=\"0 -960 960 960\">\n",
              "    <path d=\"M120-120v-720h720v720H120Zm60-500h600v-160H180v160Zm220 220h160v-160H400v160Zm0 220h160v-160H400v160ZM180-400h160v-160H180v160Zm440 0h160v-160H620v160ZM180-180h160v-160H180v160Zm440 0h160v-160H620v160Z\"/>\n",
              "  </svg>\n",
              "    </button>\n",
              "\n",
              "  <style>\n",
              "    .colab-df-container {\n",
              "      display:flex;\n",
              "      gap: 12px;\n",
              "    }\n",
              "\n",
              "    .colab-df-convert {\n",
              "      background-color: #E8F0FE;\n",
              "      border: none;\n",
              "      border-radius: 50%;\n",
              "      cursor: pointer;\n",
              "      display: none;\n",
              "      fill: #1967D2;\n",
              "      height: 32px;\n",
              "      padding: 0 0 0 0;\n",
              "      width: 32px;\n",
              "    }\n",
              "\n",
              "    .colab-df-convert:hover {\n",
              "      background-color: #E2EBFA;\n",
              "      box-shadow: 0px 1px 2px rgba(60, 64, 67, 0.3), 0px 1px 3px 1px rgba(60, 64, 67, 0.15);\n",
              "      fill: #174EA6;\n",
              "    }\n",
              "\n",
              "    .colab-df-buttons div {\n",
              "      margin-bottom: 4px;\n",
              "    }\n",
              "\n",
              "    [theme=dark] .colab-df-convert {\n",
              "      background-color: #3B4455;\n",
              "      fill: #D2E3FC;\n",
              "    }\n",
              "\n",
              "    [theme=dark] .colab-df-convert:hover {\n",
              "      background-color: #434B5C;\n",
              "      box-shadow: 0px 1px 3px 1px rgba(0, 0, 0, 0.15);\n",
              "      filter: drop-shadow(0px 1px 2px rgba(0, 0, 0, 0.3));\n",
              "      fill: #FFFFFF;\n",
              "    }\n",
              "  </style>\n",
              "\n",
              "    <script>\n",
              "      const buttonEl =\n",
              "        document.querySelector('#df-a3bcf847-bcbf-48c8-8929-2ff86396c3cf button.colab-df-convert');\n",
              "      buttonEl.style.display =\n",
              "        google.colab.kernel.accessAllowed ? 'block' : 'none';\n",
              "\n",
              "      async function convertToInteractive(key) {\n",
              "        const element = document.querySelector('#df-a3bcf847-bcbf-48c8-8929-2ff86396c3cf');\n",
              "        const dataTable =\n",
              "          await google.colab.kernel.invokeFunction('convertToInteractive',\n",
              "                                                    [key], {});\n",
              "        if (!dataTable) return;\n",
              "\n",
              "        const docLinkHtml = 'Like what you see? Visit the ' +\n",
              "          '<a target=\"_blank\" href=https://colab.research.google.com/notebooks/data_table.ipynb>data table notebook</a>'\n",
              "          + ' to learn more about interactive tables.';\n",
              "        element.innerHTML = '';\n",
              "        dataTable['output_type'] = 'display_data';\n",
              "        await google.colab.output.renderOutput(dataTable, element);\n",
              "        const docLink = document.createElement('div');\n",
              "        docLink.innerHTML = docLinkHtml;\n",
              "        element.appendChild(docLink);\n",
              "      }\n",
              "    </script>\n",
              "  </div>\n",
              "\n",
              "\n",
              "<div id=\"df-7346a56a-7824-4f7f-ab64-ff0124fcad87\">\n",
              "  <button class=\"colab-df-quickchart\" onclick=\"quickchart('df-7346a56a-7824-4f7f-ab64-ff0124fcad87')\"\n",
              "            title=\"Suggest charts\"\n",
              "            style=\"display:none;\">\n",
              "\n",
              "<svg xmlns=\"http://www.w3.org/2000/svg\" height=\"24px\"viewBox=\"0 0 24 24\"\n",
              "     width=\"24px\">\n",
              "    <g>\n",
              "        <path d=\"M19 3H5c-1.1 0-2 .9-2 2v14c0 1.1.9 2 2 2h14c1.1 0 2-.9 2-2V5c0-1.1-.9-2-2-2zM9 17H7v-7h2v7zm4 0h-2V7h2v10zm4 0h-2v-4h2v4z\"/>\n",
              "    </g>\n",
              "</svg>\n",
              "  </button>\n",
              "\n",
              "<style>\n",
              "  .colab-df-quickchart {\n",
              "      --bg-color: #E8F0FE;\n",
              "      --fill-color: #1967D2;\n",
              "      --hover-bg-color: #E2EBFA;\n",
              "      --hover-fill-color: #174EA6;\n",
              "      --disabled-fill-color: #AAA;\n",
              "      --disabled-bg-color: #DDD;\n",
              "  }\n",
              "\n",
              "  [theme=dark] .colab-df-quickchart {\n",
              "      --bg-color: #3B4455;\n",
              "      --fill-color: #D2E3FC;\n",
              "      --hover-bg-color: #434B5C;\n",
              "      --hover-fill-color: #FFFFFF;\n",
              "      --disabled-bg-color: #3B4455;\n",
              "      --disabled-fill-color: #666;\n",
              "  }\n",
              "\n",
              "  .colab-df-quickchart {\n",
              "    background-color: var(--bg-color);\n",
              "    border: none;\n",
              "    border-radius: 50%;\n",
              "    cursor: pointer;\n",
              "    display: none;\n",
              "    fill: var(--fill-color);\n",
              "    height: 32px;\n",
              "    padding: 0;\n",
              "    width: 32px;\n",
              "  }\n",
              "\n",
              "  .colab-df-quickchart:hover {\n",
              "    background-color: var(--hover-bg-color);\n",
              "    box-shadow: 0 1px 2px rgba(60, 64, 67, 0.3), 0 1px 3px 1px rgba(60, 64, 67, 0.15);\n",
              "    fill: var(--button-hover-fill-color);\n",
              "  }\n",
              "\n",
              "  .colab-df-quickchart-complete:disabled,\n",
              "  .colab-df-quickchart-complete:disabled:hover {\n",
              "    background-color: var(--disabled-bg-color);\n",
              "    fill: var(--disabled-fill-color);\n",
              "    box-shadow: none;\n",
              "  }\n",
              "\n",
              "  .colab-df-spinner {\n",
              "    border: 2px solid var(--fill-color);\n",
              "    border-color: transparent;\n",
              "    border-bottom-color: var(--fill-color);\n",
              "    animation:\n",
              "      spin 1s steps(1) infinite;\n",
              "  }\n",
              "\n",
              "  @keyframes spin {\n",
              "    0% {\n",
              "      border-color: transparent;\n",
              "      border-bottom-color: var(--fill-color);\n",
              "      border-left-color: var(--fill-color);\n",
              "    }\n",
              "    20% {\n",
              "      border-color: transparent;\n",
              "      border-left-color: var(--fill-color);\n",
              "      border-top-color: var(--fill-color);\n",
              "    }\n",
              "    30% {\n",
              "      border-color: transparent;\n",
              "      border-left-color: var(--fill-color);\n",
              "      border-top-color: var(--fill-color);\n",
              "      border-right-color: var(--fill-color);\n",
              "    }\n",
              "    40% {\n",
              "      border-color: transparent;\n",
              "      border-right-color: var(--fill-color);\n",
              "      border-top-color: var(--fill-color);\n",
              "    }\n",
              "    60% {\n",
              "      border-color: transparent;\n",
              "      border-right-color: var(--fill-color);\n",
              "    }\n",
              "    80% {\n",
              "      border-color: transparent;\n",
              "      border-right-color: var(--fill-color);\n",
              "      border-bottom-color: var(--fill-color);\n",
              "    }\n",
              "    90% {\n",
              "      border-color: transparent;\n",
              "      border-bottom-color: var(--fill-color);\n",
              "    }\n",
              "  }\n",
              "</style>\n",
              "\n",
              "  <script>\n",
              "    async function quickchart(key) {\n",
              "      const quickchartButtonEl =\n",
              "        document.querySelector('#' + key + ' button');\n",
              "      quickchartButtonEl.disabled = true;  // To prevent multiple clicks.\n",
              "      quickchartButtonEl.classList.add('colab-df-spinner');\n",
              "      try {\n",
              "        const charts = await google.colab.kernel.invokeFunction(\n",
              "            'suggestCharts', [key], {});\n",
              "      } catch (error) {\n",
              "        console.error('Error during call to suggestCharts:', error);\n",
              "      }\n",
              "      quickchartButtonEl.classList.remove('colab-df-spinner');\n",
              "      quickchartButtonEl.classList.add('colab-df-quickchart-complete');\n",
              "    }\n",
              "    (() => {\n",
              "      let quickchartButtonEl =\n",
              "        document.querySelector('#df-7346a56a-7824-4f7f-ab64-ff0124fcad87 button');\n",
              "      quickchartButtonEl.style.display =\n",
              "        google.colab.kernel.accessAllowed ? 'block' : 'none';\n",
              "    })();\n",
              "  </script>\n",
              "</div>\n",
              "    </div>\n",
              "  </div>\n"
            ],
            "application/vnd.google.colaboratory.intrinsic+json": {
              "type": "dataframe",
              "summary": "{\n  \"name\": \"final_df\",\n  \"rows\": 8,\n  \"fields\": [\n    {\n      \"column\": \"ts\",\n      \"properties\": {\n        \"dtype\": \"number\",\n        \"std\": 708397078.3323891,\n        \"min\": 825394.0,\n        \"max\": 1569018206.098978,\n        \"num_unique_values\": 8,\n        \"samples\": [\n          1533564427.891656,\n          1526868802.789832,\n          825394.0\n        ],\n        \"semantic_type\": \"\",\n        \"description\": \"\"\n      }\n    },\n    {\n      \"column\": \"id.orig_p\",\n      \"properties\": {\n        \"dtype\": \"number\",\n        \"std\": 279706.07658189576,\n        \"min\": 0.0,\n        \"max\": 825394.0,\n        \"num_unique_values\": 8,\n        \"samples\": [\n          41973.4504394265,\n          43763.0,\n          825394.0\n        ],\n        \"semantic_type\": \"\",\n        \"description\": \"\"\n      }\n    },\n    {\n      \"column\": \"id.resp_p\",\n      \"properties\": {\n        \"dtype\": \"number\",\n        \"std\": 287483.6529560145,\n        \"min\": 0.0,\n        \"max\": 825392.0,\n        \"num_unique_values\": 7,\n        \"samples\": [\n          825392.0,\n          9370.371871789404,\n          8080.0\n        ],\n        \"semantic_type\": \"\",\n        \"description\": \"\"\n      }\n    },\n    {\n      \"column\": \"missed_bytes\",\n      \"properties\": {\n        \"dtype\": \"number\",\n        \"std\": 290879.32133688126,\n        \"min\": 0.0,\n        \"max\": 825389.0,\n        \"num_unique_values\": 5,\n        \"samples\": [\n          0.22191112311891725,\n          20272.0,\n          45.58455631360817\n        ],\n        \"semantic_type\": \"\",\n        \"description\": \"\"\n      }\n    },\n    {\n      \"column\": \"orig_pkts\",\n      \"properties\": {\n        \"dtype\": \"number\",\n        \"std\": 23299403.96327637,\n        \"min\": 0.0,\n        \"max\": 66027354.0,\n        \"num_unique_values\": 7,\n        \"samples\": [\n          825389.0,\n          310.45602255421386,\n          3.0\n        ],\n        \"semantic_type\": \"\",\n        \"description\": \"\"\n      }\n    },\n    {\n      \"column\": \"orig_ip_bytes\",\n      \"properties\": {\n        \"dtype\": \"number\",\n        \"std\": 676750118.2654883,\n        \"min\": 0.0,\n        \"max\": 1914793266.0,\n        \"num_unique_values\": 8,\n        \"samples\": [\n          13512.429935460734,\n          60.0,\n          825389.0\n        ],\n        \"semantic_type\": \"\",\n        \"description\": \"\"\n      }\n    },\n    {\n      \"column\": \"resp_pkts\",\n      \"properties\": {\n        \"dtype\": \"number\",\n        \"std\": 291366.19005070155,\n        \"min\": 0.0,\n        \"max\": 825389.0,\n        \"num_unique_values\": 5,\n        \"samples\": [\n          0.29012380828918244,\n          9307.0,\n          19.58978366295542\n        ],\n        \"semantic_type\": \"\",\n        \"description\": \"\"\n      }\n    },\n    {\n      \"column\": \"resp_ip_bytes\",\n      \"properties\": {\n        \"dtype\": \"number\",\n        \"std\": 304207.0392800014,\n        \"min\": 0.0,\n        \"max\": 825389.0,\n        \"num_unique_values\": 5,\n        \"samples\": [\n          38.585079277770845,\n          388975.0,\n          1416.8145545997193\n        ],\n        \"semantic_type\": \"\",\n        \"description\": \"\"\n      }\n    }\n  ]\n}"
            }
          },
          "metadata": {},
          "execution_count": 8
        }
      ]
    },
    {
      "cell_type": "markdown",
      "source": [
        "This command will display descriptive statistics such as count, mean, standard deviation, minimum, 25th percentile (Q1), median (50th percentile or Q2), 75th percentile (Q3), and maximum for each numerical column. These statistics help us understand the central tendency, dispersion, and shape of the numerical data distribution."
      ],
      "metadata": {
        "id": "b2r30SXW9Nmo"
      }
    },
    {
      "cell_type": "markdown",
      "source": [
        "## Class Distribution\n",
        "\n",
        "In classification tasks, it's essential to examine the distribution of classes to understand the balance or imbalance between different categories. We can use the `value_counts()` method on the target variable (e.g., `\"label\"`) to count the occurrences of each class."
      ],
      "metadata": {
        "id": "BEz0zW1M9Tkb"
      }
    },
    {
      "cell_type": "code",
      "source": [
        "final_df[\"label\"].value_counts()"
      ],
      "metadata": {
        "id": "ZiFwmQ5l9b0d",
        "colab": {
          "base_uri": "https://localhost:8080/"
        },
        "outputId": "78dab875-9d3e-44b2-a3c7-a9ca86a397ac"
      },
      "execution_count": 9,
      "outputs": [
        {
          "output_type": "execute_result",
          "data": {
            "text/plain": [
              "label\n",
              "Malicious                                487946\n",
              "Benign                                   250489\n",
              "Malicious   DDoS                          46195\n",
              "Malicious   PartOfAHorizontalPortScan     33765\n",
              "Malicious   C&C                            6959\n",
              "Malicious   Attack                           32\n",
              "Malicious   FileDownload                      3\n",
              "Name: count, dtype: int64"
            ]
          },
          "metadata": {},
          "execution_count": 9
        }
      ]
    },
    {
      "cell_type": "markdown",
      "source": [
        "This command will return a series containing the counts of unique values in the target variable. Analyzing the class distribution helps in assessing the dataset's suitability for classification tasks and guides the selection of appropriate evaluation metrics."
      ],
      "metadata": {
        "id": "_8SDL0xE9d84"
      }
    },
    {
      "cell_type": "markdown",
      "source": [
        "## Data Processing\n",
        "\n",
        "In this section, we'll preprocess the dataset to handle missing or undefined data effectively."
      ],
      "metadata": {
        "id": "yWya-V55fEvA"
      }
    },
    {
      "cell_type": "markdown",
      "source": [
        "### Replace Hyphens with NA Values\n",
        "\n",
        "We'll replace hyphens `('-')` with Pandas' `NA` values to better handle missing or undefined data."
      ],
      "metadata": {
        "id": "-YzGupMAfEyF"
      }
    },
    {
      "cell_type": "code",
      "source": [
        "final_df.replace('-', pd.NA, inplace=True)"
      ],
      "metadata": {
        "id": "36cEqkPtf82h"
      },
      "execution_count": 10,
      "outputs": []
    },
    {
      "cell_type": "markdown",
      "source": [
        "### Check for Null Values\n",
        "\n",
        "We'll check for null values in the dataset and print the count of null values for each column."
      ],
      "metadata": {
        "id": "VFm3bjxcfE1P"
      }
    },
    {
      "cell_type": "code",
      "source": [
        "null_values = final_df.isnull().sum()\n",
        "print(null_values)"
      ],
      "metadata": {
        "colab": {
          "base_uri": "https://localhost:8080/"
        },
        "id": "h6cRX1LhgE33",
        "outputId": "7990df66-79e0-4c70-ee3f-dae8ad7f0a0c"
      },
      "execution_count": 11,
      "outputs": [
        {
          "output_type": "stream",
          "name": "stdout",
          "text": [
            "ts                     0\n",
            "uid                    0\n",
            "id.orig_h              0\n",
            "id.orig_p              0\n",
            "id.resp_h              1\n",
            "id.resp_p              2\n",
            "proto                  2\n",
            "service           812105\n",
            "duration          577632\n",
            "orig_bytes        577632\n",
            "resp_bytes        577632\n",
            "conn_state             4\n",
            "local_orig        825394\n",
            "local_resp        825394\n",
            "missed_bytes           5\n",
            "history             8276\n",
            "orig_pkts              5\n",
            "orig_ip_bytes          5\n",
            "resp_pkts              5\n",
            "resp_ip_bytes          5\n",
            "tunnel_parents    825394\n",
            "label                  5\n",
            "detailed-label    337289\n",
            "dtype: int64\n"
          ]
        }
      ]
    },
    {
      "cell_type": "markdown",
      "source": [
        "### Visualize Null Values\n",
        "\n",
        " We'll visualize the null values using both bar plots and heatmaps to gain insights into the distribution of missing data."
      ],
      "metadata": {
        "id": "4qvKPTTlfE33"
      }
    },
    {
      "cell_type": "code",
      "source": [
        "import matplotlib.pyplot as plt\n",
        "import seaborn as sns\n",
        "\n",
        "# Plotting null values using seaborn\n",
        "plt.figure(figsize=(10, 6))\n",
        "sns.barplot(x=null_values.index, y=null_values)\n",
        "plt.xticks(rotation=45, ha='right')\n",
        "plt.xlabel('Columns')\n",
        "plt.ylabel('Number of Null Values')\n",
        "plt.title('Null Values in Malware dataset')\n",
        "plt.tight_layout()\n",
        "plt.show()\n",
        "\n",
        "# Generate a heatmap of null values\n",
        "plt.figure(figsize=(12, 8))\n",
        "sns.heatmap(final_df.isnull(), cmap='viridis', cbar=False)\n",
        "plt.xlabel('Columns')\n",
        "plt.ylabel('Rows')\n",
        "plt.title('Heatmap of Null Values in Malware dataset')\n",
        "plt.show()"
      ],
      "metadata": {
        "colab": {
          "base_uri": "https://localhost:8080/",
          "height": 1000
        },
        "id": "zBvgIBgsgMJ4",
        "outputId": "48687590-0d3b-4cdc-8dfb-ba13290f722c"
      },
      "execution_count": 12,
      "outputs": [
        {
          "output_type": "display_data",
          "data": {
            "text/plain": [
              "<Figure size 1000x600 with 1 Axes>"
            ],
            "image/png": "[encoded data removed]"
          },
          "metadata": {}
        },
        {
          "output_type": "display_data",
          "data": {
            "text/plain": [
              "<Figure size 1200x800 with 1 Axes>"
            ],
            "image/png": "[encoded data removed]"
          },
          "metadata": {}
        }
      ]
    },
    {
      "cell_type": "markdown",
      "source": [
        "### Columns with Null Values\n",
        "\n",
        "We'll identify columns with null values and print their percentages."
      ],
      "metadata": {
        "id": "4rHRNfk3fE6v"
      }
    },
    {
      "cell_type": "code",
      "source": [
        "null_values = final_df.isnull().sum()\n",
        "null_percentage = (null_values / len(final_df)) * 100\n",
        "columns_with_null = null_percentage[null_percentage > 0]\n",
        "print(\"Columns with Null Values (Percentage):\")\n",
        "print(columns_with_null)"
      ],
      "metadata": {
        "colab": {
          "base_uri": "https://localhost:8080/"
        },
        "id": "Sm74P0Txgeq5",
        "outputId": "7b6e3222-03af-45da-ef6a-991b09cc74ee"
      },
      "execution_count": 13,
      "outputs": [
        {
          "output_type": "stream",
          "name": "stdout",
          "text": [
            "Columns with Null Values (Percentage):\n",
            "id.resp_h           0.000121\n",
            "id.resp_p           0.000242\n",
            "proto               0.000242\n",
            "service            98.389981\n",
            "duration           69.982578\n",
            "orig_bytes         69.982578\n",
            "resp_bytes         69.982578\n",
            "conn_state          0.000485\n",
            "local_orig        100.000000\n",
            "local_resp        100.000000\n",
            "missed_bytes        0.000606\n",
            "history             1.002673\n",
            "orig_pkts           0.000606\n",
            "orig_ip_bytes       0.000606\n",
            "resp_pkts           0.000606\n",
            "resp_ip_bytes       0.000606\n",
            "tunnel_parents    100.000000\n",
            "label               0.000606\n",
            "detailed-label     40.863999\n",
            "dtype: float64\n"
          ]
        }
      ]
    },
    {
      "cell_type": "markdown",
      "source": [
        "### Drop Columns with Null Values\n",
        "\n",
        "Finally, we'll drop columns with a significant number of null values to clean up the dataset."
      ],
      "metadata": {
        "id": "C49sr9NWfE9b"
      }
    },
    {
      "cell_type": "code",
      "source": [
        "final_df.drop(['service', 'orig_bytes', 'resp_bytes', 'local_orig', 'local_resp', 'tunnel_parents', 'duration', 'ts', 'detailed-label', 'uid', 'missed_bytes'], axis=1, inplace=True)"
      ],
      "metadata": {
        "id": "ArWFa-Z5gkRo"
      },
      "execution_count": 14,
      "outputs": []
    },
    {
      "cell_type": "markdown",
      "source": [
        "### Drop Rows with Null Values in Specific Column\n",
        "\n",
        "We'll also drop rows with null values in the `'history'` column."
      ],
      "metadata": {
        "id": "FpABBnOIgnAI"
      }
    },
    {
      "cell_type": "code",
      "source": [
        "final_df.dropna(subset=['history'], inplace=True)"
      ],
      "metadata": {
        "id": "SrhilD48gtdw"
      },
      "execution_count": 15,
      "outputs": []
    },
    {
      "cell_type": "markdown",
      "source": [
        "### Drop Rows with Null Label Values\n",
        "\n",
        "We drop rows with null label values to ensure that each sample in the dataset is labeled properly."
      ],
      "metadata": {
        "id": "Z8rl_NcQhv-x"
      }
    },
    {
      "cell_type": "code",
      "source": [
        "final_df = final_df.dropna(subset=['label'])"
      ],
      "metadata": {
        "id": "LUsOGGClhuyJ"
      },
      "execution_count": 16,
      "outputs": []
    },
    {
      "cell_type": "markdown",
      "source": [
        "### Data Cleaning and Transformation\n",
        "\n",
        "We update label values for consistency and clarity. For example, we replace 'Malicious DDo' with 'Malicious DDoS' to correct a typo and merge similar attack types under the 'Malicious' category."
      ],
      "metadata": {
        "id": "774UefKeh3cI"
      }
    },
    {
      "cell_type": "code",
      "source": [
        "replacement_dict = {\n",
        "    'Malicious   DDo': 'Malicious   DDoS',\n",
        "    'Malicious   FileDownload': 'Malicious',\n",
        "    'Malicious   Attack': 'Malicious',\n",
        "    'M': 'Malicious',\n",
        "    'Ma': 'Malicious',\n",
        "    'Malicious   PartOfAHorizontal': 'Malicious   PartOfAHorizontalPortScan'\n",
        "}\n",
        "\n",
        "final_df['label'] = final_df['label'].replace(replacement_dict)"
      ],
      "metadata": {
        "id": "Ep8relRmh8B_"
      },
      "execution_count": 17,
      "outputs": []
    },
    {
      "cell_type": "markdown",
      "source": [
        "### Exploratory Data Analysis (EDA)\n",
        "\n",
        "We visualize the distribution of attacks in the dataset to gain insights into the prevalence of different attack types."
      ],
      "metadata": {
        "id": "R36Z8FePiFRH"
      }
    },
    {
      "cell_type": "code",
      "source": [
        "import matplotlib.pyplot as plt\n",
        "import seaborn as sns\n",
        "\n",
        "# Plotting the distribution of attacks using seaborn\n",
        "plt.figure(figsize=(10, 6))\n",
        "sns.barplot(x=final_df[\"label\"].value_counts().index, y=final_df[\"label\"].value_counts().values)\n",
        "plt.xticks(rotation=45, ha='right')\n",
        "plt.xlabel('Attack Types')\n",
        "plt.ylabel('Frequency')\n",
        "plt.title('Distribution of Attacks')\n",
        "plt.tight_layout()\n",
        "plt.show()"
      ],
      "metadata": {
        "colab": {
          "base_uri": "https://localhost:8080/",
          "height": 607
        },
        "id": "zW9pSOSoiJqC",
        "outputId": "47a93f64-3135-41bd-a350-9ad020d69206"
      },
      "execution_count": 18,
      "outputs": [
        {
          "output_type": "display_data",
          "data": {
            "text/plain": [
              "<Figure size 1000x600 with 1 Axes>"
            ],
            "image/png": "[encoded data removed]"
          },
          "metadata": {}
        }
      ]
    },
    {
      "cell_type": "markdown",
      "source": [
        "### Displaying the Processed Dataset\n",
        "\n",
        "Finally, after performing the necessary preprocessing steps, it's beneficial to inspect the resulting dataset to ensure that the desired transformations have been applied correctly."
      ],
      "metadata": {
        "id": "wVJySPuA_avJ"
      }
    },
    {
      "cell_type": "code",
      "source": [
        "final_df"
      ],
      "metadata": {
        "colab": {
          "base_uri": "https://localhost:8080/",
          "height": 424
        },
        "id": "qmxFNNmp_fLi",
        "outputId": "e2c82bde-c30d-416c-e831-2dc35729be57"
      },
      "execution_count": 19,
      "outputs": [
        {
          "output_type": "execute_result",
          "data": {
            "text/plain": [
              "            id.orig_h  id.orig_p       id.resp_h  id.resp_p proto conn_state  \\\n",
              "0       192.168.1.195      123.0  212.111.30.190      123.0   udp         SF   \n",
              "1       192.168.1.195      123.0  89.221.218.101      123.0   udp         SF   \n",
              "2       192.168.1.195    37120.0   102.165.48.81    17769.0   tcp       RSTR   \n",
              "3         192.168.1.1    47805.0   192.168.1.195       22.0   tcp         SF   \n",
              "4       192.168.1.195    37122.0   102.165.48.81    17769.0   tcp       RSTR   \n",
              "...               ...        ...             ...        ...   ...        ...   \n",
              "825389  192.168.1.195    57110.0  185.244.25.235     6667.0   tcp         S3   \n",
              "825390  192.168.1.195    57092.0  185.244.25.235     6667.0   tcp         S3   \n",
              "825391  192.168.1.195      123.0  147.251.48.140      123.0   udp         S0   \n",
              "825392  192.168.1.195      123.0    82.113.53.40      123.0   udp         S0   \n",
              "825393  192.168.1.195      123.0  89.221.210.188      123.0   udp         S0   \n",
              "\n",
              "        history  orig_pkts  orig_ip_bytes  resp_pkts  resp_ip_bytes  \\\n",
              "0            Dd        2.0          152.0        2.0          152.0   \n",
              "1            Dd        2.0          152.0        2.0          152.0   \n",
              "2       ShAdfDr       10.0         1572.0        8.0          540.0   \n",
              "3        DdAaFf      400.0        26336.0      268.0        36368.0   \n",
              "4       ShAdfDr       10.0         1572.0        8.0          540.0   \n",
              "...         ...        ...            ...        ...            ...   \n",
              "825389  ShAdDaf        7.0          434.0        6.0          589.0   \n",
              "825390  ShAdDaf       10.0          606.0        7.0          632.0   \n",
              "825391        D        1.0           76.0        0.0            0.0   \n",
              "825392        D        1.0           76.0        0.0            0.0   \n",
              "825393        D        1.0           76.0        0.0            0.0   \n",
              "\n",
              "                  label  \n",
              "0                Benign  \n",
              "1                Benign  \n",
              "2       Malicious   C&C  \n",
              "3                Benign  \n",
              "4       Malicious   C&C  \n",
              "...                 ...  \n",
              "825389  Malicious   C&C  \n",
              "825390  Malicious   C&C  \n",
              "825391           Benign  \n",
              "825392           Benign  \n",
              "825393           Benign  \n",
              "\n",
              "[817118 rows x 12 columns]"
            ],
            "text/html": [
              "\n",
              "  <div id=\"df-457a867b-fe47-462c-96b2-071fb8975db0\" class=\"colab-df-container\">\n",
              "    <div>\n",
              "<style scoped>\n",
              "    .dataframe tbody tr th:only-of-type {\n",
              "        vertical-align: middle;\n",
              "    }\n",
              "\n",
              "    .dataframe tbody tr th {\n",
              "        vertical-align: top;\n",
              "    }\n",
              "\n",
              "    .dataframe thead th {\n",
              "        text-align: right;\n",
              "    }\n",
              "</style>\n",
              "<table border=\"1\" class=\"dataframe\">\n",
              "  <thead>\n",
              "    <tr style=\"text-align: right;\">\n",
              "      <th></th>\n",
              "      <th>id.orig_h</th>\n",
              "      <th>id.orig_p</th>\n",
              "      <th>id.resp_h</th>\n",
              "      <th>id.resp_p</th>\n",
              "      <th>proto</th>\n",
              "      <th>conn_state</th>\n",
              "      <th>history</th>\n",
              "      <th>orig_pkts</th>\n",
              "      <th>orig_ip_bytes</th>\n",
              "      <th>resp_pkts</th>\n",
              "      <th>resp_ip_bytes</th>\n",
              "      <th>label</th>\n",
              "    </tr>\n",
              "  </thead>\n",
              "  <tbody>\n",
              "    <tr>\n",
              "      <th>0</th>\n",
              "      <td>192.168.1.195</td>\n",
              "      <td>123.0</td>\n",
              "      <td>212.111.30.190</td>\n",
              "      <td>123.0</td>\n",
              "      <td>udp</td>\n",
              "      <td>SF</td>\n",
              "      <td>Dd</td>\n",
              "      <td>2.0</td>\n",
              "      <td>152.0</td>\n",
              "      <td>2.0</td>\n",
              "      <td>152.0</td>\n",
              "      <td>Benign</td>\n",
              "    </tr>\n",
              "    <tr>\n",
              "      <th>1</th>\n",
              "      <td>192.168.1.195</td>\n",
              "      <td>123.0</td>\n",
              "      <td>89.221.218.101</td>\n",
              "      <td>123.0</td>\n",
              "      <td>udp</td>\n",
              "      <td>SF</td>\n",
              "      <td>Dd</td>\n",
              "      <td>2.0</td>\n",
              "      <td>152.0</td>\n",
              "      <td>2.0</td>\n",
              "      <td>152.0</td>\n",
              "      <td>Benign</td>\n",
              "    </tr>\n",
              "    <tr>\n",
              "      <th>2</th>\n",
              "      <td>192.168.1.195</td>\n",
              "      <td>37120.0</td>\n",
              "      <td>102.165.48.81</td>\n",
              "      <td>17769.0</td>\n",
              "      <td>tcp</td>\n",
              "      <td>RSTR</td>\n",
              "      <td>ShAdfDr</td>\n",
              "      <td>10.0</td>\n",
              "      <td>1572.0</td>\n",
              "      <td>8.0</td>\n",
              "      <td>540.0</td>\n",
              "      <td>Malicious   C&amp;C</td>\n",
              "    </tr>\n",
              "    <tr>\n",
              "      <th>3</th>\n",
              "      <td>192.168.1.1</td>\n",
              "      <td>47805.0</td>\n",
              "      <td>192.168.1.195</td>\n",
              "      <td>22.0</td>\n",
              "      <td>tcp</td>\n",
              "      <td>SF</td>\n",
              "      <td>DdAaFf</td>\n",
              "      <td>400.0</td>\n",
              "      <td>26336.0</td>\n",
              "      <td>268.0</td>\n",
              "      <td>36368.0</td>\n",
              "      <td>Benign</td>\n",
              "    </tr>\n",
              "    <tr>\n",
              "      <th>4</th>\n",
              "      <td>192.168.1.195</td>\n",
              "      <td>37122.0</td>\n",
              "      <td>102.165.48.81</td>\n",
              "      <td>17769.0</td>\n",
              "      <td>tcp</td>\n",
              "      <td>RSTR</td>\n",
              "      <td>ShAdfDr</td>\n",
              "      <td>10.0</td>\n",
              "      <td>1572.0</td>\n",
              "      <td>8.0</td>\n",
              "      <td>540.0</td>\n",
              "      <td>Malicious   C&amp;C</td>\n",
              "    </tr>\n",
              "    <tr>\n",
              "      <th>...</th>\n",
              "      <td>...</td>\n",
              "      <td>...</td>\n",
              "      <td>...</td>\n",
              "      <td>...</td>\n",
              "      <td>...</td>\n",
              "      <td>...</td>\n",
              "      <td>...</td>\n",
              "      <td>...</td>\n",
              "      <td>...</td>\n",
              "      <td>...</td>\n",
              "      <td>...</td>\n",
              "      <td>...</td>\n",
              "    </tr>\n",
              "    <tr>\n",
              "      <th>825389</th>\n",
              "      <td>192.168.1.195</td>\n",
              "      <td>57110.0</td>\n",
              "      <td>185.244.25.235</td>\n",
              "      <td>6667.0</td>\n",
              "      <td>tcp</td>\n",
              "      <td>S3</td>\n",
              "      <td>ShAdDaf</td>\n",
              "      <td>7.0</td>\n",
              "      <td>434.0</td>\n",
              "      <td>6.0</td>\n",
              "      <td>589.0</td>\n",
              "      <td>Malicious   C&amp;C</td>\n",
              "    </tr>\n",
              "    <tr>\n",
              "      <th>825390</th>\n",
              "      <td>192.168.1.195</td>\n",
              "      <td>57092.0</td>\n",
              "      <td>185.244.25.235</td>\n",
              "      <td>6667.0</td>\n",
              "      <td>tcp</td>\n",
              "      <td>S3</td>\n",
              "      <td>ShAdDaf</td>\n",
              "      <td>10.0</td>\n",
              "      <td>606.0</td>\n",
              "      <td>7.0</td>\n",
              "      <td>632.0</td>\n",
              "      <td>Malicious   C&amp;C</td>\n",
              "    </tr>\n",
              "    <tr>\n",
              "      <th>825391</th>\n",
              "      <td>192.168.1.195</td>\n",
              "      <td>123.0</td>\n",
              "      <td>147.251.48.140</td>\n",
              "      <td>123.0</td>\n",
              "      <td>udp</td>\n",
              "      <td>S0</td>\n",
              "      <td>D</td>\n",
              "      <td>1.0</td>\n",
              "      <td>76.0</td>\n",
              "      <td>0.0</td>\n",
              "      <td>0.0</td>\n",
              "      <td>Benign</td>\n",
              "    </tr>\n",
              "    <tr>\n",
              "      <th>825392</th>\n",
              "      <td>192.168.1.195</td>\n",
              "      <td>123.0</td>\n",
              "      <td>82.113.53.40</td>\n",
              "      <td>123.0</td>\n",
              "      <td>udp</td>\n",
              "      <td>S0</td>\n",
              "      <td>D</td>\n",
              "      <td>1.0</td>\n",
              "      <td>76.0</td>\n",
              "      <td>0.0</td>\n",
              "      <td>0.0</td>\n",
              "      <td>Benign</td>\n",
              "    </tr>\n",
              "    <tr>\n",
              "      <th>825393</th>\n",
              "      <td>192.168.1.195</td>\n",
              "      <td>123.0</td>\n",
              "      <td>89.221.210.188</td>\n",
              "      <td>123.0</td>\n",
              "      <td>udp</td>\n",
              "      <td>S0</td>\n",
              "      <td>D</td>\n",
              "      <td>1.0</td>\n",
              "      <td>76.0</td>\n",
              "      <td>0.0</td>\n",
              "      <td>0.0</td>\n",
              "      <td>Benign</td>\n",
              "    </tr>\n",
              "  </tbody>\n",
              "</table>\n",
              "<p>817118 rows × 12 columns</p>\n",
              "</div>\n",
              "    <div class=\"colab-df-buttons\">\n",
              "\n",
              "  <div class=\"colab-df-container\">\n",
              "    <button class=\"colab-df-convert\" onclick=\"convertToInteractive('df-457a867b-fe47-462c-96b2-071fb8975db0')\"\n",
              "            title=\"Convert this dataframe to an interactive table.\"\n",
              "            style=\"display:none;\">\n",
              "\n",
              "  <svg xmlns=\"http://www.w3.org/2000/svg\" height=\"24px\" viewBox=\"0 -960 960 960\">\n",
              "    <path d=\"M120-120v-720h720v720H120Zm60-500h600v-160H180v160Zm220 220h160v-160H400v160Zm0 220h160v-160H400v160ZM180-400h160v-160H180v160Zm440 0h160v-160H620v160ZM180-180h160v-160H180v160Zm440 0h160v-160H620v160Z\"/>\n",
              "  </svg>\n",
              "    </button>\n",
              "\n",
              "  <style>\n",
              "    .colab-df-container {\n",
              "      display:flex;\n",
              "      gap: 12px;\n",
              "    }\n",
              "\n",
              "    .colab-df-convert {\n",
              "      background-color: #E8F0FE;\n",
              "      border: none;\n",
              "      border-radius: 50%;\n",
              "      cursor: pointer;\n",
              "      display: none;\n",
              "      fill: #1967D2;\n",
              "      height: 32px;\n",
              "      padding: 0 0 0 0;\n",
              "      width: 32px;\n",
              "    }\n",
              "\n",
              "    .colab-df-convert:hover {\n",
              "      background-color: #E2EBFA;\n",
              "      box-shadow: 0px 1px 2px rgba(60, 64, 67, 0.3), 0px 1px 3px 1px rgba(60, 64, 67, 0.15);\n",
              "      fill: #174EA6;\n",
              "    }\n",
              "\n",
              "    .colab-df-buttons div {\n",
              "      margin-bottom: 4px;\n",
              "    }\n",
              "\n",
              "    [theme=dark] .colab-df-convert {\n",
              "      background-color: #3B4455;\n",
              "      fill: #D2E3FC;\n",
              "    }\n",
              "\n",
              "    [theme=dark] .colab-df-convert:hover {\n",
              "      background-color: #434B5C;\n",
              "      box-shadow: 0px 1px 3px 1px rgba(0, 0, 0, 0.15);\n",
              "      filter: drop-shadow(0px 1px 2px rgba(0, 0, 0, 0.3));\n",
              "      fill: #FFFFFF;\n",
              "    }\n",
              "  </style>\n",
              "\n",
              "    <script>\n",
              "      const buttonEl =\n",
              "        document.querySelector('#df-457a867b-fe47-462c-96b2-071fb8975db0 button.colab-df-convert');\n",
              "      buttonEl.style.display =\n",
              "        google.colab.kernel.accessAllowed ? 'block' : 'none';\n",
              "\n",
              "      async function convertToInteractive(key) {\n",
              "        const element = document.querySelector('#df-457a867b-fe47-462c-96b2-071fb8975db0');\n",
              "        const dataTable =\n",
              "          await google.colab.kernel.invokeFunction('convertToInteractive',\n",
              "                                                    [key], {});\n",
              "        if (!dataTable) return;\n",
              "\n",
              "        const docLinkHtml = 'Like what you see? Visit the ' +\n",
              "          '<a target=\"_blank\" href=https://colab.research.google.com/notebooks/data_table.ipynb>data table notebook</a>'\n",
              "          + ' to learn more about interactive tables.';\n",
              "        element.innerHTML = '';\n",
              "        dataTable['output_type'] = 'display_data';\n",
              "        await google.colab.output.renderOutput(dataTable, element);\n",
              "        const docLink = document.createElement('div');\n",
              "        docLink.innerHTML = docLinkHtml;\n",
              "        element.appendChild(docLink);\n",
              "      }\n",
              "    </script>\n",
              "  </div>\n",
              "\n",
              "\n",
              "<div id=\"df-21837c08-7af0-44fb-9153-647d3b7cba06\">\n",
              "  <button class=\"colab-df-quickchart\" onclick=\"quickchart('df-21837c08-7af0-44fb-9153-647d3b7cba06')\"\n",
              "            title=\"Suggest charts\"\n",
              "            style=\"display:none;\">\n",
              "\n",
              "<svg xmlns=\"http://www.w3.org/2000/svg\" height=\"24px\"viewBox=\"0 0 24 24\"\n",
              "     width=\"24px\">\n",
              "    <g>\n",
              "        <path d=\"M19 3H5c-1.1 0-2 .9-2 2v14c0 1.1.9 2 2 2h14c1.1 0 2-.9 2-2V5c0-1.1-.9-2-2-2zM9 17H7v-7h2v7zm4 0h-2V7h2v10zm4 0h-2v-4h2v4z\"/>\n",
              "    </g>\n",
              "</svg>\n",
              "  </button>\n",
              "\n",
              "<style>\n",
              "  .colab-df-quickchart {\n",
              "      --bg-color: #E8F0FE;\n",
              "      --fill-color: #1967D2;\n",
              "      --hover-bg-color: #E2EBFA;\n",
              "      --hover-fill-color: #174EA6;\n",
              "      --disabled-fill-color: #AAA;\n",
              "      --disabled-bg-color: #DDD;\n",
              "  }\n",
              "\n",
              "  [theme=dark] .colab-df-quickchart {\n",
              "      --bg-color: #3B4455;\n",
              "      --fill-color: #D2E3FC;\n",
              "      --hover-bg-color: #434B5C;\n",
              "      --hover-fill-color: #FFFFFF;\n",
              "      --disabled-bg-color: #3B4455;\n",
              "      --disabled-fill-color: #666;\n",
              "  }\n",
              "\n",
              "  .colab-df-quickchart {\n",
              "    background-color: var(--bg-color);\n",
              "    border: none;\n",
              "    border-radius: 50%;\n",
              "    cursor: pointer;\n",
              "    display: none;\n",
              "    fill: var(--fill-color);\n",
              "    height: 32px;\n",
              "    padding: 0;\n",
              "    width: 32px;\n",
              "  }\n",
              "\n",
              "  .colab-df-quickchart:hover {\n",
              "    background-color: var(--hover-bg-color);\n",
              "    box-shadow: 0 1px 2px rgba(60, 64, 67, 0.3), 0 1px 3px 1px rgba(60, 64, 67, 0.15);\n",
              "    fill: var(--button-hover-fill-color);\n",
              "  }\n",
              "\n",
              "  .colab-df-quickchart-complete:disabled,\n",
              "  .colab-df-quickchart-complete:disabled:hover {\n",
              "    background-color: var(--disabled-bg-color);\n",
              "    fill: var(--disabled-fill-color);\n",
              "    box-shadow: none;\n",
              "  }\n",
              "\n",
              "  .colab-df-spinner {\n",
              "    border: 2px solid var(--fill-color);\n",
              "    border-color: transparent;\n",
              "    border-bottom-color: var(--fill-color);\n",
              "    animation:\n",
              "      spin 1s steps(1) infinite;\n",
              "  }\n",
              "\n",
              "  @keyframes spin {\n",
              "    0% {\n",
              "      border-color: transparent;\n",
              "      border-bottom-color: var(--fill-color);\n",
              "      border-left-color: var(--fill-color);\n",
              "    }\n",
              "    20% {\n",
              "      border-color: transparent;\n",
              "      border-left-color: var(--fill-color);\n",
              "      border-top-color: var(--fill-color);\n",
              "    }\n",
              "    30% {\n",
              "      border-color: transparent;\n",
              "      border-left-color: var(--fill-color);\n",
              "      border-top-color: var(--fill-color);\n",
              "      border-right-color: var(--fill-color);\n",
              "    }\n",
              "    40% {\n",
              "      border-color: transparent;\n",
              "      border-right-color: var(--fill-color);\n",
              "      border-top-color: var(--fill-color);\n",
              "    }\n",
              "    60% {\n",
              "      border-color: transparent;\n",
              "      border-right-color: var(--fill-color);\n",
              "    }\n",
              "    80% {\n",
              "      border-color: transparent;\n",
              "      border-right-color: var(--fill-color);\n",
              "      border-bottom-color: var(--fill-color);\n",
              "    }\n",
              "    90% {\n",
              "      border-color: transparent;\n",
              "      border-bottom-color: var(--fill-color);\n",
              "    }\n",
              "  }\n",
              "</style>\n",
              "\n",
              "  <script>\n",
              "    async function quickchart(key) {\n",
              "      const quickchartButtonEl =\n",
              "        document.querySelector('#' + key + ' button');\n",
              "      quickchartButtonEl.disabled = true;  // To prevent multiple clicks.\n",
              "      quickchartButtonEl.classList.add('colab-df-spinner');\n",
              "      try {\n",
              "        const charts = await google.colab.kernel.invokeFunction(\n",
              "            'suggestCharts', [key], {});\n",
              "      } catch (error) {\n",
              "        console.error('Error during call to suggestCharts:', error);\n",
              "      }\n",
              "      quickchartButtonEl.classList.remove('colab-df-spinner');\n",
              "      quickchartButtonEl.classList.add('colab-df-quickchart-complete');\n",
              "    }\n",
              "    (() => {\n",
              "      let quickchartButtonEl =\n",
              "        document.querySelector('#df-21837c08-7af0-44fb-9153-647d3b7cba06 button');\n",
              "      quickchartButtonEl.style.display =\n",
              "        google.colab.kernel.accessAllowed ? 'block' : 'none';\n",
              "    })();\n",
              "  </script>\n",
              "</div>\n",
              "    </div>\n",
              "  </div>\n"
            ],
            "application/vnd.google.colaboratory.intrinsic+json": {
              "type": "dataframe",
              "variable_name": "final_df"
            }
          },
          "metadata": {},
          "execution_count": 19
        }
      ]
    },
    {
      "cell_type": "markdown",
      "source": [
        "This command displays the processed DataFrame, showing the effect of the preprocessing steps performed earlier."
      ],
      "metadata": {
        "id": "12THL1btBbVT"
      }
    },
    {
      "cell_type": "markdown",
      "source": [
        "### Encoding Categorical Features\n",
        "\n",
        "Categorical features in the dataset need to be encoded into numerical representations before they can be used in machine learning models. One common approach is to use Label Encoding for categorical features, where each unique category is assigned a numerical label. Similarly, IP addresses need to be transformed into numerical representations."
      ],
      "metadata": {
        "id": "WUb1j_lvA_vm"
      }
    },
    {
      "cell_type": "code",
      "source": [
        "from sklearn.preprocessing import LabelEncoder, OrdinalEncoder\n",
        "import pandas as pd\n",
        "import joblib\n",
        "\n",
        "# Hashing IP addresses\n",
        "columns_to_hash = ['id.orig_h', 'id.resp_h']\n",
        "for column in columns_to_hash:\n",
        "    final_df[column] = final_df[column].apply(hash)\n",
        "\n",
        "# Encoding categorical columns with LabelEncoder\n",
        "categorical_columns_to_label_encoder = ['proto', 'conn_state', 'history']\n",
        "for column in categorical_columns_to_label_encoder:\n",
        "    print(\"column\", column)\n",
        "    # Initialize LabelEncoder\n",
        "    categorical_label_encoder = LabelEncoder()\n",
        "    # Fit and transform the column\n",
        "    final_df[column] = categorical_label_encoder.fit_transform(final_df[column])\n",
        "    # Save the LabelEncoder object for future use\n",
        "    filename = f'categorical_label_encoder_{column}.pkl'\n",
        "    joblib.dump(categorical_label_encoder, filename)\n",
        "    # Print the classes encoded by LabelEncoder\n",
        "    print(\"Categorical columns labels for\", column, \":\", categorical_label_encoder.classes_)\n",
        "\n",
        "# Convert certain columns to numeric data types\n",
        "final_df['id.orig_p'] = pd.to_numeric(final_df['id.orig_p'])\n",
        "final_df['id.resp_p'] = pd.to_numeric(final_df['id.resp_p'])\n",
        "final_df['orig_ip_bytes'] = pd.to_numeric(final_df['orig_ip_bytes'])\n",
        "final_df['resp_pkts'] = pd.to_numeric(final_df['resp_pkts'])\n",
        "final_df['resp_ip_bytes'] = pd.to_numeric(final_df['resp_ip_bytes'])\n"
      ],
      "metadata": {
        "id": "eZU-5x6DBBjt",
        "colab": {
          "base_uri": "https://localhost:8080/"
        },
        "outputId": "2946fce8-4ed9-4716-b851-46238627b56f"
      },
      "execution_count": 20,
      "outputs": [
        {
          "output_type": "stream",
          "name": "stdout",
          "text": [
            "column proto\n",
            "Categorical columns labels for proto : ['tcp' 'udp']\n",
            "column conn_state\n",
            "Categorical columns labels for conn_state : ['OTH' 'REJ' 'RSTO' 'RSTOS0' 'RSTR' 'RSTRH' 'S0' 'S1' 'S2' 'S3' 'SF' 'SH'\n",
            " 'SHR']\n",
            "column history\n",
            "Categorical columns labels for history : ['Aa' 'C' 'CCC' 'CCCC' 'D' 'DAd' 'DFafA' 'D^' 'D^d' 'DaFfA' 'Dd' 'DdA'\n",
            " 'DdAa' 'DdAaFf' 'DdAtaFf' 'F' 'R' 'S' 'SAD' 'SaR' 'SahAdDF' 'SahAdDFRf'\n",
            " 'SahAdDFf' 'SahAdDtFf' 'ShA' 'ShAD' 'ShADCaGcgd' 'ShADCaGdfF' 'ShADF'\n",
            " 'ShADFa' 'ShADFaR' 'ShADFadfR' 'ShADFadfRR' 'ShADFar' 'ShADFfR' 'ShADFfa'\n",
            " 'ShADFr' 'ShADa' 'ShADaCGcgdF' 'ShADaCGdt' 'ShADaCGdtfF' 'ShADaCGr'\n",
            " 'ShADaF' 'ShADaR' 'ShADacdtfF' 'ShADad' 'ShADadFf' 'ShADadFfR' 'ShADadR'\n",
            " 'ShADadRf' 'ShADadf' 'ShADadfF' 'ShADadfR' 'ShADadfrr' 'ShADadtFf'\n",
            " 'ShADadtcfF' 'ShADadtctfF' 'ShADadtctfFR' 'ShADadtfF' 'ShADadttFf'\n",
            " 'ShADadttcfF' 'ShADadttfF' 'ShADafF' 'ShADafr' 'ShADarfF' 'ShADda'\n",
            " 'ShADdaf' 'ShADdafR' 'ShADdfFa' 'ShADfdtR' 'ShADr' 'ShADrfR' 'ShAF'\n",
            " 'ShAFa' 'ShAFf' 'ShAFr' 'ShAa' 'ShAadDFR' 'ShAadDFRf' 'ShAadDFf'\n",
            " 'ShAadDr' 'ShAafF' 'ShAdD' 'ShAdDFaf' 'ShAdDFf' 'ShAdDa' 'ShAdDaF'\n",
            " 'ShAdDaFR' 'ShAdDaFRR' 'ShAdDaFRRRf' 'ShAdDaFRRf' 'ShAdDaFRRfR'\n",
            " 'ShAdDaFRf' 'ShAdDaFRfR' 'ShAdDaFRfRR' 'ShAdDaFRr' 'ShAdDaFT' 'ShAdDaFTf'\n",
            " 'ShAdDaFf' 'ShAdDaFfR' 'ShAdDaFfRR' 'ShAdDaFfr' 'ShAdDaFr' 'ShAdDaFrR'\n",
            " 'ShAdDaR' 'ShAdDaTF' 'ShAdDaTFRf' 'ShAdDaTFf' 'ShAdDaf' 'ShAdDafF'\n",
            " 'ShAdDafFr' 'ShAdDafFrR' 'ShAdDafR' 'ShAdDafr' 'ShAdDafrR' 'ShAdDaft'\n",
            " 'ShAdDar' 'ShAdDatFf' 'ShAdDatFr' 'ShAdDatFrR' 'ShAdDatR' 'ShAdDatf'\n",
            " 'ShAdDatfF' 'ShAdDatfr' 'ShAdDfFr' 'ShAdDfr' 'ShAdDtaFf' 'ShAdDtafF'\n",
            " 'ShAdF' 'ShAdFaf' 'ShAdaFr' 'ShAdfDr' 'ShAdfFa' 'ShAdtDaFr' 'ShAdtDaFrR'\n",
            " 'ShAfFa' 'ShAfdtDr' 'ShAr' 'ShArR' 'ShDadAf' 'ShR' 'Sr' '^aA' '^c' '^d'\n",
            " '^dDA' '^r']\n"
          ]
        }
      ]
    },
    {
      "cell_type": "markdown",
      "source": [
        "In this code snippet:\n",
        "\n",
        "- The categorical columns in the DataFrame `final_df` are converted to string type to ensure uniformity.\n",
        "- IP addresses in specified columns are hashed using a simple hash function to convert them into numerical representations while maintaining anonymity.\n",
        "- Then, a `LabelEncoder` is applied to each categorical column, transforming the categorical values into numerical labels.\n",
        "- The resulting numerical labels for categorical columns are saved as individual files using joblib for future use.\n",
        "- Certain numerical columns like 'id.orig_p', 'id.resp_p', 'orig_ip_bytes', 'resp_pkts', and 'resp_ip_bytes' are converted to numeric data type using Pandas' `pd.to_numeric` function to ensure consistency in data type across the dataset."
      ],
      "metadata": {
        "id": "Jdh98IEvBQ-5"
      }
    },
    {
      "cell_type": "markdown",
      "source": [
        "### Splitting the Dataset\n",
        "\n",
        "Before training a machine learning model, it's common practice to split the dataset into training, validation, and test sets. This helps in evaluating the model's performance on unseen data."
      ],
      "metadata": {
        "id": "R4lNPl9TBcrK"
      }
    },
    {
      "cell_type": "code",
      "source": [
        "train_set, val_set, test_set = train_val_test_split(final_df)\n",
        "\n",
        "X_train, y_train = remove_labels(train_set, 'label')\n",
        "X_val, y_val = remove_labels(val_set, 'label')\n",
        "X_test, y_test = remove_labels(test_set, 'label')"
      ],
      "metadata": {
        "id": "2yUH1UURBhSS"
      },
      "execution_count": 21,
      "outputs": []
    },
    {
      "cell_type": "markdown",
      "source": [
        "In this code:\n",
        "\n",
        "- The `final_df` dataset is split into training, validation, and test sets using the `train_val_test_split` function.\n",
        "- The features (X) and labels (y) are separated from each dataset."
      ],
      "metadata": {
        "id": "y4LE6u3oBjUT"
      }
    },
    {
      "cell_type": "markdown",
      "source": [
        "### Encoding Categorical Labels and One-Hot Encoding\n",
        "\n",
        "In machine learning, it's common to work with categorical labels that need to be encoded into numerical form before feeding them into a model. Additionally, for classification tasks with multiple classes, it's beneficial to represent these encoded labels as one-hot encoded vectors. This section demonstrates how to perform label encoding and one-hot encoding using scikit-learn's `LabelEncoder` and Keras's `to_categorical` functions."
      ],
      "metadata": {
        "id": "77JA__1CBpKC"
      }
    },
    {
      "cell_type": "code",
      "source": [
        "from sklearn.preprocessing import LabelEncoder\n",
        "from keras.utils import to_categorical\n",
        "\n",
        "# Initialize LabelEncoder\n",
        "label_encoder = LabelEncoder()\n",
        "\n",
        "# Encode labels in y_train using LabelEncoder\n",
        "y_train_encoded = label_encoder.fit_transform(y_train)\n",
        "\n",
        "# Get unique labels\n",
        "unique_labels = label_encoder.classes_\n",
        "print(\"y_train_encoded Unique labels:\", unique_labels)\n",
        "\n",
        "# Convert encoded labels to one-hot vectors\n",
        "y_train_encoded = to_categorical(y_train_encoded, num_classes=len(unique_labels))\n",
        "print(\"Encoded y_train:\", y_train_encoded)\n",
        "\n",
        "# Encode labels in y_val using the new LabelEncoder instance\n",
        "y_val_encoded = label_encoder.transform(y_val)\n",
        "print(\"Encoded y_val:\", y_val_encoded)\n",
        "\n",
        "# Convert encoded labels to one-hot vectors\n",
        "y_val_encoded = to_categorical(y_val_encoded, num_classes=len(unique_labels))\n",
        "print(\"Encoded y_val:\", y_val_encoded)\n",
        "\n",
        "# Encode labels in y_test using the new LabelEncoder instance\n",
        "y_test_encoded = label_encoder.transform(y_test)\n",
        "print(\"Encoded y_test:\", y_test_encoded)\n",
        "\n",
        "# Convert encoded labels to one-hot vectors\n",
        "y_test_encoded = to_categorical(y_test_encoded, num_classes=len(unique_labels))\n",
        "print(\"Encoded y_test:\", y_test_encoded)"
      ],
      "metadata": {
        "id": "7S6_unj_E2M7",
        "colab": {
          "base_uri": "https://localhost:8080/"
        },
        "outputId": "366575ec-9f9c-4a4e-db6f-0a7619aa3884"
      },
      "execution_count": 22,
      "outputs": [
        {
          "output_type": "stream",
          "name": "stdout",
          "text": [
            "y_train_encoded Unique labels: ['Benign' 'Malicious' 'Malicious   C&C' 'Malicious   DDoS'\n",
            " 'Malicious   PartOfAHorizontalPortScan']\n",
            "Encoded y_train: [[1. 0. 0. 0. 0.]\n",
            " [1. 0. 0. 0. 0.]\n",
            " [1. 0. 0. 0. 0.]\n",
            " ...\n",
            " [1. 0. 0. 0. 0.]\n",
            " [0. 1. 0. 0. 0.]\n",
            " [0. 1. 0. 0. 0.]]\n",
            "Encoded y_val: [1 1 0 ... 0 0 1]\n",
            "Encoded y_val: [[0. 1. 0. 0. 0.]\n",
            " [0. 1. 0. 0. 0.]\n",
            " [1. 0. 0. 0. 0.]\n",
            " ...\n",
            " [1. 0. 0. 0. 0.]\n",
            " [1. 0. 0. 0. 0.]\n",
            " [0. 1. 0. 0. 0.]]\n",
            "Encoded y_test: [4 1 1 ... 0 1 1]\n",
            "Encoded y_test: [[0. 0. 0. 0. 1.]\n",
            " [0. 1. 0. 0. 0.]\n",
            " [0. 1. 0. 0. 0.]\n",
            " ...\n",
            " [1. 0. 0. 0. 0.]\n",
            " [0. 1. 0. 0. 0.]\n",
            " [0. 1. 0. 0. 0.]]\n"
          ]
        }
      ]
    },
    {
      "cell_type": "code",
      "source": [
        "import joblib\n",
        "\n",
        "joblib.dump(label_encoder, 'label_encoder.pkl')"
      ],
      "metadata": {
        "id": "g4wu7IL4Q9-G",
        "colab": {
          "base_uri": "https://localhost:8080/"
        },
        "outputId": "9b5c073d-d914-496b-82e4-dfb0d2d83647"
      },
      "execution_count": 23,
      "outputs": [
        {
          "output_type": "execute_result",
          "data": {
            "text/plain": [
              "['label_encoder.pkl']"
            ]
          },
          "metadata": {},
          "execution_count": 23
        }
      ]
    },
    {
      "cell_type": "markdown",
      "source": [
        "**Explanation:**\n",
        "\n",
        "- **Label Encoding:** The **`LabelEncoder`** is used to transform categorical labels into numerical representations. Each unique label is assigned a unique integer.\n",
        "- **Handling Missing Values:** Rows with missing labels are dropped using **`dropna`** to maintain data integrity.\n",
        "- **Fitting LabelEncoder:** The **`fit_transform`** method of **`LabelEncoder`** is used to fit and transform the training labels (`y_train`) into encoded form.\n",
        "- **Unique Labels:** The **`classes_`** attribute of **`LabelEncoder`** provides the unique labels in alphabetical order.\n",
        "- **One-Hot Encoding:** The **`to_categorical`** function from Keras is used to convert the encoded labels into one-hot encoded vectors. Each integer label is converted into a binary vector, where the index corresponding to the label is set to 1 and all other indices are set to 0.\n",
        "- **Encoding Validation and Test Sets:** The same **`LabelEncoder`** instance is used to transform the validation (**`y_val`**) and test (**`y_test`**) labels into encoded form. Then, these encoded labels are converted into one-hot encoded vectors in a similar manner.\n",
        "\n",
        "This process ensures that the categorical labels are appropriately encoded and transformed into a format suitable for training classification models, such as neural networks."
      ],
      "metadata": {
        "id": "zwiQ6XW_E21R"
      }
    },
    {
      "cell_type": "markdown",
      "source": [
        "### Data Standardization with StandardScaler\n",
        "\n",
        "Data standardization is a preprocessing technique used to transform the features of a dataset to have a mean of 0 and a standard deviation of 1. This process ensures that the features are on the same scale, which is essential for many machine learning algorithms, particularly those based on **distance metrics or gradient descent optimization**."
      ],
      "metadata": {
        "id": "-owefUGNHMe8"
      }
    },
    {
      "cell_type": "code",
      "source": [
        "from sklearn.preprocessing import StandardScaler\n",
        "\n",
        "# Initialize StandardScaler to normalize the input data\n",
        "scaler = StandardScaler()\n",
        "\n",
        "# Normalize the training data (X_train)\n",
        "X_train_scaled = scaler.fit_transform(X_train)\n",
        "\n",
        "# Normalize the validation data (X_val) using the same scaler instance\n",
        "X_val_scaled = scaler.transform(X_val)\n",
        "\n",
        "# Normalize the test data (X_test) using the same scaler instance\n",
        "X_test_scaled = scaler.transform(X_test)"
      ],
      "metadata": {
        "id": "kKzAiEy7HVga"
      },
      "execution_count": 24,
      "outputs": []
    },
    {
      "cell_type": "code",
      "source": [
        "import joblib\n",
        "\n",
        "joblib.dump(scaler, 'standard_scaler.pkl')"
      ],
      "metadata": {
        "colab": {
          "base_uri": "https://localhost:8080/"
        },
        "id": "MHCEgwbmjR42",
        "outputId": "418c8cdb-a804-4a74-cf72-8187d690a3ba"
      },
      "execution_count": 25,
      "outputs": [
        {
          "output_type": "execute_result",
          "data": {
            "text/plain": [
              "['standard_scaler.pkl']"
            ]
          },
          "metadata": {},
          "execution_count": 25
        }
      ]
    },
    {
      "cell_type": "code",
      "source": [
        "X_train_scaled"
      ],
      "metadata": {
        "colab": {
          "base_uri": "https://localhost:8080/"
        },
        "id": "naanVNK8iJr_",
        "outputId": "5fb83ea2-530e-48d0-ba0c-3a9ac48e0417"
      },
      "execution_count": 26,
      "outputs": [
        {
          "output_type": "execute_result",
          "data": {
            "text/plain": [
              "array([[-9.17625965e-01,  1.11325484e+00, -4.27888533e-01, ...,\n",
              "        -3.12855609e-03,  3.12375990e-02,  1.29137266e-03],\n",
              "       [ 9.76083549e-01,  9.56160374e-02,  1.46821118e+00, ...,\n",
              "        -3.13350379e-03, -1.41298098e-02, -2.79914298e-02],\n",
              "       [ 9.76083549e-01,  9.62555670e-01,  8.00875613e-01, ...,\n",
              "        -3.12855609e-03, -1.41298098e-02, -2.79914298e-02],\n",
              "       ...,\n",
              "       [ 9.76083549e-01,  9.56160374e-02,  8.52778911e-01, ...,\n",
              "        -3.13350379e-03, -1.41298098e-02, -2.79914298e-02],\n",
              "       [ 5.51542449e-01, -1.56095651e+00,  1.20726715e+00, ...,\n",
              "        -3.13350379e-03, -1.41298098e-02, -2.79914298e-02],\n",
              "       [ 9.76083549e-01,  1.28597175e+00, -1.59111264e-01, ...,\n",
              "        -3.12855609e-03, -1.41298098e-02, -2.79914298e-02]])"
            ]
          },
          "metadata": {},
          "execution_count": 26
        }
      ]
    },
    {
      "cell_type": "markdown",
      "source": [
        "**Explanation:**\n",
        "\n",
        "- **StandardScaler Initialization:** The StandardScaler class from scikit-learn is used to perform standardization. It standardizes features by removing the mean and scaling them to unit variance.\n",
        "- **Fitting and Transforming:** The fit_transform method of StandardScaler is used to compute the mean and standard deviation of the training data (X_train) and then apply the transformation to standardize the features.\n",
        "For validation and test datasets (X_val and X_test), the transform method is used to apply the same transformation learned from the training data.\n",
        "- **Consistency Across Sets:** It's crucial to use the same scaler instance (scaler) to normalize all datasets (training, validation, and test) to ensure consistency in scaling across different sets.\n",
        "- **Data Normalization Benefits:** Normalizing the input data helps improve the convergence speed of gradient-based optimization algorithms, reduces the sensitivity to the scale of features, and often leads to better performance of machine learning models.\n",
        "\n",
        "By standardizing the input features, we ensure that each feature contributes equally to the model's learning process, leading to better overall performance and stability during training."
      ],
      "metadata": {
        "id": "F0VUGNQPHYH5"
      }
    },
    {
      "cell_type": "markdown",
      "source": [
        "### Neural Network with Dropout\n",
        "\n",
        "In this section, we'll explore the implementation of a neural network model that incorporates dropout layers. These techniques are commonly used to improve the performance and generalization of deep learning models.\n",
        "\n",
        "#### Dropout:\n",
        "\n",
        "Dropout is a regularization technique used to prevent overfitting by randomly dropping a fraction of the neurons during training. It helps in improving the generalization performance of the model by reducing the co-adaptation of neurons.\n",
        "\n",
        "- **Implementation**: Dropout layers are added after each batch normalization layer in the model. They randomly deactivate a fraction of the neurons in the previous layer during each training iteration, forcing the network to learn more robust features.\n",
        "\n",
        "#### Model Architecture:\n",
        "\n",
        "The neural network model consists of input, hidden, and output layers:\n",
        "\n",
        "- **Input Layer**: An input layer with the shape corresponding to the number of features in the input data.\n",
        "\n",
        "- **Hidden Layers**: Multiple dense layers with batch normalization, activation functions (ReLU), and dropout. These layers capture the complex relationships in the data and prevent overfitting.\n",
        "\n",
        "- **Output Layer**: A dense output layer with a softmax activation function, which produces probabilities for each class in a multi-class classification task.\n",
        "\n",
        "#### Compilation:\n",
        "\n",
        "The model is compiled with the Adam optimizer, categorical cross-entropy loss function, and evaluation metrics including accuracy and precision.\n",
        "\n",
        "#### Benefits:\n",
        "  \n",
        "- **Preventing Overfitting**: Dropout layers prevent overfitting by randomly deactivating neurons, forcing the network to learn more generalizable features.\n",
        "  \n",
        "- **Better Generalization**: Using dropout can lead to better generalization performance on unseen data.\n",
        "\n",
        "By incorporating dropout layers into the model architecture, you can build more robust and efficient deep learning models for various tasks.\n"
      ],
      "metadata": {
        "id": "SXjvTte2JQqy"
      }
    },
    {
      "cell_type": "code",
      "source": [
        "from tensorflow.keras import models, layers, regularizers\n",
        "\n",
        "model = models.Sequential()\n",
        "\n",
        "# Input layer\n",
        "model.add(layers.Input(shape=(X_train_scaled.shape[1],)))\n",
        "\n",
        "# Hidden layers\n",
        "model.add(layers.Dense(512, kernel_regularizer=regularizers.l2(0.001)))\n",
        "model.add(layers.Activation('relu'))\n",
        "model.add(layers.Dropout(0.5))\n",
        "\n",
        "model.add(layers.Dense(256, kernel_regularizer=regularizers.l2(0.001)))\n",
        "model.add(layers.Activation('relu'))\n",
        "model.add(layers.Dropout(0.5))\n",
        "\n",
        "model.add(layers.Dense(128, kernel_regularizer=regularizers.l2(0.001)))\n",
        "model.add(layers.Activation('relu'))\n",
        "model.add(layers.Dropout(0.5))\n",
        "\n",
        "# Output layer\n",
        "model.add(layers.Dense(5, activation='softmax'))\n",
        "\n",
        "# Compile the model\n",
        "model.compile(optimizer='adam',\n",
        "             loss='categorical_crossentropy',\n",
        "             metrics=['accuracy', 'Precision'])\n"
      ],
      "metadata": {
        "id": "u_Dy_J6jJqya"
      },
      "execution_count": 27,
      "outputs": []
    },
    {
      "cell_type": "markdown",
      "source": [
        "### Model Summary\n",
        "\n",
        "The `model.summary()` function provides a concise overview of the architecture and parameters of the neural network model. It displays the layers, their output shapes, and the number of parameters in each layer. This summary is useful for understanding the structure of the model and verifying its correctness.\n"
      ],
      "metadata": {
        "id": "WlhFs7DZJ6zq"
      }
    },
    {
      "cell_type": "code",
      "source": [
        "model.summary()"
      ],
      "metadata": {
        "colab": {
          "base_uri": "https://localhost:8080/"
        },
        "id": "6sDVPTLXKB1x",
        "outputId": "cd4593a7-b101-438b-e002-cca313e83e5b"
      },
      "execution_count": 28,
      "outputs": [
        {
          "output_type": "stream",
          "name": "stdout",
          "text": [
            "Model: \"sequential\"\n",
            "_________________________________________________________________\n",
            " Layer (type)                Output Shape              Param #   \n",
            "=================================================================\n",
            " dense (Dense)               (None, 512)               6144      \n",
            "                                                                 \n",
            " activation (Activation)     (None, 512)               0         \n",
            "                                                                 \n",
            " dropout (Dropout)           (None, 512)               0         \n",
            "                                                                 \n",
            " dense_1 (Dense)             (None, 256)               131328    \n",
            "                                                                 \n",
            " activation_1 (Activation)   (None, 256)               0         \n",
            "                                                                 \n",
            " dropout_1 (Dropout)         (None, 256)               0         \n",
            "                                                                 \n",
            " dense_2 (Dense)             (None, 128)               32896     \n",
            "                                                                 \n",
            " activation_2 (Activation)   (None, 128)               0         \n",
            "                                                                 \n",
            " dropout_2 (Dropout)         (None, 128)               0         \n",
            "                                                                 \n",
            " dense_3 (Dense)             (None, 5)                 645       \n",
            "                                                                 \n",
            "=================================================================\n",
            "Total params: 171013 (668.02 KB)\n",
            "Trainable params: 171013 (668.02 KB)\n",
            "Non-trainable params: 0 (0.00 Byte)\n",
            "_________________________________________________________________\n"
          ]
        }
      ]
    },
    {
      "cell_type": "markdown",
      "source": [
        "After building the neural network model, calling `model.summary()` prints a summary table in the console or notebook output. This table includes information about each layer, such as the layer type, output shape, and number of trainable parameters."
      ],
      "metadata": {
        "id": "fFjSgPd1KCKB"
      }
    },
    {
      "cell_type": "markdown",
      "source": [
        "### Training with Early Stopping\n",
        "\n",
        "During model training, the `fit()` method is called with the training data, validation data, and other parameters including the number of epochs and batch size. The `callbacks` parameter is used to specify additional callbacks, such as early stopping.\n",
        "\n",
        "- **Preventing Overfitting**: Early stopping helps prevent overfitting by stopping the training process when the model's performance on the validation set no longer improves.\n",
        "  \n",
        "- **Optimizing Training Time**: Early stopping can reduce training time by stopping the training process once the model has converged to its optimal performance."
      ],
      "metadata": {
        "id": "782PqeOPKLs5"
      }
    },
    {
      "cell_type": "code",
      "source": [
        "from tensorflow.keras.callbacks import EarlyStopping\n",
        "\n",
        "early_stopping = EarlyStopping(monitor='val_loss', patience=5, restore_best_weights=True)\n",
        "\n",
        "history = model.fit(X_train_scaled,\n",
        "                    y_train_encoded,\n",
        "                    epochs=8,\n",
        "                    batch_size=32,\n",
        "                    validation_data=(X_val_scaled, y_val_encoded),\n",
        "                    callbacks=[early_stopping])"
      ],
      "metadata": {
        "colab": {
          "base_uri": "https://localhost:8080/"
        },
        "id": "bxDAmi1OKU1a",
        "outputId": "092ed43f-2c52-42fc-d468-2f50aa94bbe0"
      },
      "execution_count": 30,
      "outputs": [
        {
          "output_type": "stream",
          "name": "stdout",
          "text": [
            "Epoch 1/8\n",
            "15321/15321 [==============================] - 134s 9ms/step - loss: 0.0798 - accuracy: 0.9914 - precision: 0.9915 - val_loss: 0.0641 - val_accuracy: 0.9955 - val_precision: 0.9955\n",
            "Epoch 2/8\n",
            "15321/15321 [==============================] - 141s 9ms/step - loss: 0.0784 - accuracy: 0.9914 - precision: 0.9916 - val_loss: 0.0643 - val_accuracy: 0.9957 - val_precision: 0.9957\n",
            "Epoch 3/8\n",
            "15321/15321 [==============================] - 143s 9ms/step - loss: 0.0793 - accuracy: 0.9913 - precision: 0.9914 - val_loss: 0.0666 - val_accuracy: 0.9953 - val_precision: 0.9953\n",
            "Epoch 4/8\n",
            "15321/15321 [==============================] - 137s 9ms/step - loss: 0.0823 - accuracy: 0.9913 - precision: 0.9914 - val_loss: 0.0772 - val_accuracy: 0.9918 - val_precision: 0.9919\n",
            "Epoch 5/8\n",
            "15321/15321 [==============================] - 141s 9ms/step - loss: 0.0799 - accuracy: 0.9913 - precision: 0.9915 - val_loss: 0.0653 - val_accuracy: 0.9956 - val_precision: 0.9956\n",
            "Epoch 6/8\n",
            "15321/15321 [==============================] - 146s 10ms/step - loss: 0.0829 - accuracy: 0.9913 - precision: 0.9915 - val_loss: 0.0703 - val_accuracy: 0.9947 - val_precision: 0.9947\n"
          ]
        }
      ]
    },
    {
      "cell_type": "markdown",
      "source": [
        "## Plotting Training History\n",
        "\n",
        "### Loss vs. Epochs:\n",
        "\n",
        "The first plot shows the training and validation loss over epochs. It provides insights into the model's convergence and whether it is overfitting or underfitting. A decreasing training loss indicates that the model is learning from the training data, while the validation loss indicates the model's performance on unseen data.\n",
        "\n",
        "- **Implementation**: The training and validation loss data are extracted from the `history` object returned by the `fit()` method. These values are then plotted using `matplotlib.pyplot` to visualize the loss trends over epochs."
      ],
      "metadata": {
        "id": "W8Lxy3MuNLVy"
      }
    },
    {
      "cell_type": "code",
      "source": [
        "import pandas as pd\n",
        "import matplotlib.pyplot as plt\n",
        "\n",
        "pd.DataFrame(history.history)[['loss', 'val_loss']].plot(figsize=(10, 6))\n",
        "plt.grid(True)\n",
        "plt.xlabel(\"epochs\")\n",
        "plt.ylabel(\"loss\")\n",
        "plt.show()"
      ],
      "metadata": {
        "colab": {
          "base_uri": "https://localhost:8080/",
          "height": 542
        },
        "id": "70YQW9X8NcpO",
        "outputId": "a3d42068-b7d8-42c7-ef86-022bee3a598d"
      },
      "execution_count": 31,
      "outputs": [
        {
          "output_type": "display_data",
          "data": {
            "text/plain": [
              "<Figure size 1000x600 with 1 Axes>"
            ],
            "image/png": "[encoded data removed]"
          },
          "metadata": {}
        }
      ]
    },
    {
      "cell_type": "markdown",
      "source": [
        "### Accuracy vs. Epochs\n",
        "\n",
        "The second plot shows the training and validation accuracy over epochs. It helps assess how well the model is performing on both the training and validation datasets. An increasing accuracy indicates that the model is improving in its ability to correctly classify samples.\n",
        "\n",
        "- **Implementation:** Similar to the loss plot, the training and validation accuracy data are extracted from the **`history`** object and plotted using **`matplotlib.pyplot.`**"
      ],
      "metadata": {
        "id": "lXgfbU46NdYB"
      }
    },
    {
      "cell_type": "code",
      "source": [
        "import pandas as pd\n",
        "import matplotlib.pyplot as plt\n",
        "\n",
        "pd.DataFrame(history.history)[['accuracy', 'val_accuracy']].plot(figsize=(10, 6))\n",
        "plt.grid(True)\n",
        "plt.xlabel(\"epochs\")\n",
        "plt.ylabel(\"accuracy\")\n",
        "plt.show()"
      ],
      "metadata": {
        "colab": {
          "base_uri": "https://localhost:8080/",
          "height": 542
        },
        "id": "8VE0G-mdOAVJ",
        "outputId": "13958b2d-c7e8-4d7c-e4ac-c1d70ad3278a"
      },
      "execution_count": 32,
      "outputs": [
        {
          "output_type": "display_data",
          "data": {
            "text/plain": [
              "<Figure size 1000x600 with 1 Axes>"
            ],
            "image/png": "[encoded data removed]"
          },
          "metadata": {}
        }
      ]
    },
    {
      "cell_type": "markdown",
      "source": [
        "\n",
        "- **Loss Plot:** Look for convergence of training and validation loss. If the training loss decreases but the validation loss starts to increase, it indicates overfitting.\n",
        "- **Accuracy Plot:** Monitor the increase in accuracy over epochs. A large gap between training and validation accuracy may indicate overfitting.\n",
        "\n",
        "These plots provide valuable insights into the training process and can help in tuning model hyperparameters."
      ],
      "metadata": {
        "id": "PVsnlbKsOG_6"
      }
    },
    {
      "cell_type": "markdown",
      "source": [
        "## Model Evaluation\n",
        "\n",
        "Once the model has been trained, it's crucial to evaluate its performance on a test dataset to understand how well it generalizes to unseen data. To do this, we use the evaluate function provided by the Keras API in TensorFlow.\n",
        "\n"
      ],
      "metadata": {
        "id": "Icuz_M2ySmb1"
      }
    },
    {
      "cell_type": "code",
      "source": [
        "error, accuracy, precision = model.evaluate(X_test_scaled, y_test_encoded)\n",
        "print(\"Error: \", error)\n",
        "print(\"Accuracy: \", accuracy)\n",
        "print(\"Precision: \", precision)"
      ],
      "metadata": {
        "colab": {
          "base_uri": "https://localhost:8080/"
        },
        "id": "mn6ZXjRcSqCR",
        "outputId": "552a8fda-9921-4290-8651-4856429379bf"
      },
      "execution_count": 33,
      "outputs": [
        {
          "output_type": "stream",
          "name": "stdout",
          "text": [
            "5107/5107 [==============================] - 16s 3ms/step - loss: 0.0634 - accuracy: 0.9958 - precision: 0.9958\n",
            "Error:  0.06335538625717163\n",
            "Accuracy:  0.9958023428916931\n",
            "Precision:  0.9958328008651733\n"
          ]
        }
      ]
    },
    {
      "cell_type": "markdown",
      "source": [
        "- **Error:** It is the loss obtained by the model on the test dataset.\n",
        "- **Accuracy:** It is the model's accuracy on the test dataset, i.e., the fraction of samples classified correctly.\n",
        "- **Precision:** It is a measure of the model's precision in predicting positive samples relative to all samples predicted as positive.\n",
        "\n",
        "These values provide us with a quantitative understanding of the model's performance and help us determine its effectiveness in the classification task."
      ],
      "metadata": {
        "id": "dHd-TA9XSrrg"
      }
    },
    {
      "cell_type": "markdown",
      "source": [
        "## Saving the Trained Model and Weights\n",
        "\n",
        "After training a deep learning model, it's essential to save both the model architecture and its trained weights for future use or deployment. We can achieve this in TensorFlow using the **`save`** method provided by the Keras API."
      ],
      "metadata": {
        "id": "J71ITvUJTuGi"
      }
    },
    {
      "cell_type": "code",
      "source": [
        "# Define the file paths for saving the model and weights\n",
        "model_path = 'trained_model/model.h5'\n",
        "weights_path = 'trained_model/weights.h5'\n",
        "\n",
        "# Save the trained model architecture\n",
        "model.save(model_path)\n",
        "\n",
        "# Save the trained model weights\n",
        "model.save_weights(weights_path)"
      ],
      "metadata": {
        "colab": {
          "base_uri": "https://localhost:8080/"
        },
        "id": "ueUMGNlJT1kL",
        "outputId": "e456d2af-41cc-4c9b-bc41-c23d7044e540"
      },
      "execution_count": 34,
      "outputs": [
        {
          "output_type": "stream",
          "name": "stderr",
          "text": [
            "/usr/local/lib/python3.10/dist-packages/keras/src/engine/training.py:3103: UserWarning: You are saving your model as an HDF5 file via `model.save()`. This file format is considered legacy. We recommend using instead the native Keras format, e.g. `model.save('my_model.keras')`.\n",
            "  saving_api.save_model(\n"
          ]
        }
      ]
    },
    {
      "cell_type": "markdown",
      "source": [
        "This code saves the entire model architecture to a single HDF5 file **(model.h5)** and the trained weights to another HDF5 file **(weights.h5)**. These files can then be loaded later to make predictions on new data or continue training the model."
      ],
      "metadata": {
        "id": "iMMGvIy0T1sX"
      }
    }
  ]
}